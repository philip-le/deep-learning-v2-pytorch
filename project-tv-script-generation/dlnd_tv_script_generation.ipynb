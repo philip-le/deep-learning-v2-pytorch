{
 "cells": [
  {
   "cell_type": "markdown",
   "metadata": {},
   "source": [
    "# TV Script Generation\n",
    "\n",
    "In this project, you'll generate your own [Seinfeld](https://en.wikipedia.org/wiki/Seinfeld) TV scripts using RNNs.  You'll be using part of the [Seinfeld dataset](https://www.kaggle.com/thec03u5/seinfeld-chronicles#scripts.csv) of scripts from 9 seasons.  The Neural Network you'll build will generate a new ,\"fake\" TV script, based on patterns it recognizes in this training data.\n",
    "\n",
    "## Get the Data\n",
    "\n",
    "The data is already provided for you in `./data/Seinfeld_Scripts.txt` and you're encouraged to open that file and look at the text. \n",
    ">* As a first step, we'll load in this data and look at some samples. \n",
    "* Then, you'll be tasked with defining and training an RNN to generate a new script!"
   ]
  },
  {
   "cell_type": "code",
   "execution_count": 1,
   "metadata": {
    "ExecuteTime": {
     "end_time": "2020-05-23T12:46:21.388620Z",
     "start_time": "2020-05-23T12:46:20.987909Z"
    }
   },
   "outputs": [],
   "source": [
    "import os\n",
    "os.environ['CUDA_LAUNCH_BLOCKING'] = '1'\n",
    "\n",
    "import torch\n",
    "torch.cuda.set_device(0)"
   ]
  },
  {
   "cell_type": "code",
   "execution_count": 2,
   "metadata": {
    "ExecuteTime": {
     "end_time": "2020-05-23T12:46:21.439300Z",
     "start_time": "2020-05-23T12:46:21.390865Z"
    }
   },
   "outputs": [],
   "source": [
    "\"\"\"\n",
    "DON'T MODIFY ANYTHING IN THIS CELL\n",
    "\"\"\"\n",
    "# load in data\n",
    "import helper\n",
    "data_dir = './data/Seinfeld_Scripts.txt'\n",
    "text = helper.load_data(data_dir)"
   ]
  },
  {
   "cell_type": "markdown",
   "metadata": {},
   "source": [
    "## Explore the Data\n",
    "Play around with `view_line_range` to view different parts of the data. This will give you a sense of the data you'll be working with. You can see, for example, that it is all lowercase text, and each new line of dialogue is separated by a newline character `\\n`."
   ]
  },
  {
   "cell_type": "code",
   "execution_count": 3,
   "metadata": {
    "ExecuteTime": {
     "end_time": "2020-05-23T12:46:21.652143Z",
     "start_time": "2020-05-23T12:46:21.441443Z"
    }
   },
   "outputs": [
    {
     "name": "stdout",
     "output_type": "stream",
     "text": [
      "Dataset Stats\n",
      "Roughly the number of unique words: 46367\n",
      "Number of lines: 109233\n",
      "Average number of words in each line: 5.544240293684143\n",
      "\n",
      "The lines 0 to 10:\n",
      "jerry: do you know what this is all about? do you know, why were here? to be out, this is out...and out is one of the single most enjoyable experiences of life. people...did you ever hear people talking about we should go out? this is what theyre talking about...this whole thing, were all out now, no one is home. not one person here is home, were all out! there are people trying to find us, they dont know where we are. (on an imaginary phone) did you ring?, i cant find him. where did he go? he didnt tell me where he was going. he must have gone out. you wanna go out you get ready, you pick out the clothes, right? you take the shower, you get all ready, get the cash, get your friends, the car, the spot, the reservation...then youre standing around, what do you do? you go we gotta be getting back. once youre out, you wanna get back! you wanna go to sleep, you wanna get up, you wanna go out again tomorrow, right? where ever you are in life, its my feeling, youve gotta go. \n",
      "\n",
      "jerry: (pointing at georges shirt) see, to me, that button is in the worst possible spot. the second button literally makes or breaks the shirt, look at it. its too high! its in no-mans-land. you look like you live with your mother. \n",
      "\n",
      "george: are you through? \n",
      "\n",
      "jerry: you do of course try on, when you buy? \n",
      "\n",
      "george: yes, it was purple, i liked it, i dont actually recall considering the buttons. \n",
      "\n"
     ]
    }
   ],
   "source": [
    "view_line_range = (0, 10)\n",
    "\n",
    "\"\"\"\n",
    "DON'T MODIFY ANYTHING IN THIS CELL THAT IS BELOW THIS LINE\n",
    "\"\"\"\n",
    "import numpy as np\n",
    "\n",
    "print('Dataset Stats')\n",
    "print('Roughly the number of unique words: {}'.format(len({word: None for word in text.split()})))\n",
    "\n",
    "lines = text.split('\\n')\n",
    "print('Number of lines: {}'.format(len(lines)))\n",
    "word_count_line = [len(line.split()) for line in lines]\n",
    "print('Average number of words in each line: {}'.format(np.average(word_count_line)))\n",
    "\n",
    "print()\n",
    "print('The lines {} to {}:'.format(*view_line_range))\n",
    "print('\\n'.join(text.split('\\n')[view_line_range[0]:view_line_range[1]]))"
   ]
  },
  {
   "cell_type": "markdown",
   "metadata": {},
   "source": [
    "---\n",
    "## Implement Pre-processing Functions\n",
    "The first thing to do to any dataset is pre-processing.  Implement the following pre-processing functions below:\n",
    "- Lookup Table\n",
    "- Tokenize Punctuation\n",
    "\n",
    "### Lookup Table\n",
    "To create a word embedding, you first need to transform the words to ids.  In this function, create two dictionaries:\n",
    "- Dictionary to go from the words to an id, we'll call `vocab_to_int`\n",
    "- Dictionary to go from the id to word, we'll call `int_to_vocab`\n",
    "\n",
    "Return these dictionaries in the following **tuple** `(vocab_to_int, int_to_vocab)`"
   ]
  },
  {
   "cell_type": "code",
   "execution_count": 4,
   "metadata": {
    "ExecuteTime": {
     "end_time": "2020-05-23T12:46:21.663019Z",
     "start_time": "2020-05-23T12:46:21.653728Z"
    }
   },
   "outputs": [
    {
     "name": "stdout",
     "output_type": "stream",
     "text": [
      "Tests Passed\n"
     ]
    }
   ],
   "source": [
    "import problem_unittests as tests\n",
    "from collections import Counter \n",
    "\n",
    "def create_lookup_tables(text):\n",
    "    \"\"\"\n",
    "    Create lookup tables for vocabulary\n",
    "    :param text: The text of tv scripts split into words\n",
    "    :return: A tuple of dicts (vocab_to_int, int_to_vocab)\n",
    "    \"\"\"\n",
    "\n",
    "    # TODO: Implement Function\n",
    "    word_count = dict(Counter(text).most_common())\n",
    "\n",
    "    # list of words sorted in popularity\n",
    "    sorted_words = list(word_count.keys())\n",
    "\n",
    "    word_dict = {} #  a dictionary that translates words into integers\n",
    "    for idx, word in enumerate(sorted_words): \n",
    "        word_dict[word] = idx + 1                              # 'infrequent' labels\n",
    "        \n",
    "    return (word_dict, {v: k for k, v in word_dict.items()})\n",
    "\n",
    "\n",
    "\"\"\"\n",
    "DON'T MODIFY ANYTHING IN THIS CELL THAT IS BELOW THIS LINE\n",
    "\"\"\"\n",
    "tests.test_create_lookup_tables(create_lookup_tables)"
   ]
  },
  {
   "cell_type": "markdown",
   "metadata": {},
   "source": [
    "### Tokenize Punctuation\n",
    "We'll be splitting the script into a word array using spaces as delimiters.  However, punctuations like periods and exclamation marks can create multiple ids for the same word. For example, \"bye\" and \"bye!\" would generate two different word ids.\n",
    "\n",
    "Implement the function `token_lookup` to return a dict that will be used to tokenize symbols like \"!\" into \"||Exclamation_Mark||\".  Create a dictionary for the following symbols where the symbol is the key and value is the token:\n",
    "- Period ( **.** )\n",
    "- Comma ( **,** )\n",
    "- Quotation Mark ( **\"** )\n",
    "- Semicolon ( **;** )\n",
    "- Exclamation mark ( **!** )\n",
    "- Question mark ( **?** )\n",
    "- Left Parentheses ( **(** )\n",
    "- Right Parentheses ( **)** )\n",
    "- Dash ( **-** )\n",
    "- Return ( **\\n** )\n",
    "\n",
    "This dictionary will be used to tokenize the symbols and add the delimiter (space) around it.  This separates each symbols as its own word, making it easier for the neural network to predict the next word. Make sure you don't use a value that could be confused as a word; for example, instead of using the value \"dash\", try using something like \"||dash||\"."
   ]
  },
  {
   "cell_type": "code",
   "execution_count": 5,
   "metadata": {
    "ExecuteTime": {
     "end_time": "2020-05-23T12:46:21.671318Z",
     "start_time": "2020-05-23T12:46:21.666508Z"
    }
   },
   "outputs": [
    {
     "name": "stdout",
     "output_type": "stream",
     "text": [
      "Tests Passed\n"
     ]
    }
   ],
   "source": [
    "def token_lookup():\n",
    "    \"\"\"\n",
    "    Generate a dict to turn punctuation into a token.\n",
    "    :return: Tokenized dictionary where the key is the punctuation and the value is the token\n",
    "    \"\"\"\n",
    "    # TODO: Implement Function\n",
    "    punct_dict = {}\n",
    "    punct_dict['.'] = 'Period'\n",
    "    punct_dict[','] = 'Comma'\n",
    "    punct_dict['\"'] = 'Quotation_Mark'\n",
    "    punct_dict[';'] = 'Semicolon'\n",
    "    punct_dict['!'] = 'Exclamation_mark'\n",
    "    punct_dict['?'] = 'Question_mark'\n",
    "    punct_dict['('] = 'Left_Parentheses'\n",
    "    punct_dict[')'] = 'Right_Parentheses'\n",
    "    punct_dict['-'] = 'Dash'\n",
    "    punct_dict['\\n'] = 'Return'\n",
    "        \n",
    "    return punct_dict\n",
    "\n",
    "\"\"\"\n",
    "DON'T MODIFY ANYTHING IN THIS CELL THAT IS BELOW THIS LINE\n",
    "\"\"\"\n",
    "tests.test_tokenize(token_lookup)"
   ]
  },
  {
   "cell_type": "markdown",
   "metadata": {},
   "source": [
    "## Pre-process all the data and save it\n",
    "\n",
    "Running the code cell below will pre-process all the data and save it to file. You're encouraged to look at the code for `preprocess_and_save_data` in the `helpers.py` file to see what it's doing in detail, but you do not need to change this code."
   ]
  },
  {
   "cell_type": "code",
   "execution_count": 6,
   "metadata": {
    "ExecuteTime": {
     "end_time": "2020-05-23T12:46:22.140405Z",
     "start_time": "2020-05-23T12:46:21.673719Z"
    }
   },
   "outputs": [],
   "source": [
    "\"\"\"\n",
    "DON'T MODIFY ANYTHING IN THIS CELL\n",
    "\"\"\"\n",
    "# pre-process training data\n",
    "helper.preprocess_and_save_data(data_dir, token_lookup, create_lookup_tables)"
   ]
  },
  {
   "cell_type": "markdown",
   "metadata": {},
   "source": [
    "# Check Point\n",
    "This is your first checkpoint. If you ever decide to come back to this notebook or have to restart the notebook, you can start from here. The preprocessed data has been saved to disk."
   ]
  },
  {
   "cell_type": "code",
   "execution_count": 7,
   "metadata": {
    "ExecuteTime": {
     "end_time": "2020-05-23T12:46:22.176463Z",
     "start_time": "2020-05-23T12:46:22.143089Z"
    }
   },
   "outputs": [],
   "source": [
    "\"\"\"\n",
    "DON'T MODIFY ANYTHING IN THIS CELL\n",
    "\"\"\"\n",
    "import helper\n",
    "import problem_unittests as tests\n",
    "\n",
    "int_text, vocab_to_int, int_to_vocab, token_dict = helper.load_preprocess()"
   ]
  },
  {
   "cell_type": "code",
   "execution_count": 8,
   "metadata": {
    "ExecuteTime": {
     "end_time": "2020-05-23T12:46:22.187193Z",
     "start_time": "2020-05-23T12:46:22.178092Z"
    }
   },
   "outputs": [
    {
     "data": {
      "text/plain": [
       "(892110, list)"
      ]
     },
     "execution_count": 8,
     "metadata": {},
     "output_type": "execute_result"
    }
   ],
   "source": [
    "# Learn what int_text is! The transformation of text into int_number by vocab_to_int\n",
    "len(int_text), type(int_text)"
   ]
  },
  {
   "cell_type": "markdown",
   "metadata": {},
   "source": [
    "## Build the Neural Network\n",
    "In this section, you'll build the components necessary to build an RNN by implementing the RNN Module and forward and backpropagation functions.\n",
    "\n",
    "### Check Access to GPU"
   ]
  },
  {
   "cell_type": "code",
   "execution_count": 9,
   "metadata": {
    "ExecuteTime": {
     "end_time": "2020-05-23T12:46:22.194148Z",
     "start_time": "2020-05-23T12:46:22.188800Z"
    }
   },
   "outputs": [
    {
     "name": "stdout",
     "output_type": "stream",
     "text": [
      "True\n"
     ]
    }
   ],
   "source": [
    "\"\"\"\n",
    "DON'T MODIFY ANYTHING IN THIS CELL\n",
    "\"\"\"\n",
    "import torch\n",
    "\n",
    "# Check for a GPU\n",
    "train_on_gpu = torch.cuda.is_available()\n",
    "if not train_on_gpu:\n",
    "    print('No GPU found. Please use a GPU to train your neural network.')\n",
    "print(train_on_gpu)"
   ]
  },
  {
   "cell_type": "markdown",
   "metadata": {},
   "source": [
    "## Input\n",
    "Let's start with the preprocessed input data. We'll use [TensorDataset](http://pytorch.org/docs/master/data.html#torch.utils.data.TensorDataset) to provide a known format to our dataset; in combination with [DataLoader](http://pytorch.org/docs/master/data.html#torch.utils.data.DataLoader), it will handle batching, shuffling, and other dataset iteration functions.\n",
    "\n",
    "You can create data with TensorDataset by passing in feature and target tensors. Then create a DataLoader as usual.\n",
    "```\n",
    "data = TensorDataset(feature_tensors, target_tensors)\n",
    "data_loader = torch.utils.data.DataLoader(data, \n",
    "                                          batch_size=batch_size)\n",
    "```\n",
    "\n",
    "### Batching\n",
    "Implement the `batch_data` function to batch `words` data into chunks of size `batch_size` using the `TensorDataset` and `DataLoader` classes.\n",
    "\n",
    ">You can batch words using the DataLoader, but it will be up to you to create `feature_tensors` and `target_tensors` of the correct size and content for a given `sequence_length`.\n",
    "\n",
    "For example, say we have these as input:\n",
    "```\n",
    "words = [1, 2, 3, 4, 5, 6, 7]\n",
    "sequence_length = 4\n",
    "```\n",
    "\n",
    "Your first `feature_tensor` should contain the values:\n",
    "```\n",
    "[1, 2, 3, 4]\n",
    "```\n",
    "And the corresponding `target_tensor` should just be the next \"word\"/tokenized word value:\n",
    "```\n",
    "5\n",
    "```\n",
    "This should continue with the second `feature_tensor`, `target_tensor` being:\n",
    "```\n",
    "[2, 3, 4, 5]  # features\n",
    "6             # target\n",
    "```"
   ]
  },
  {
   "cell_type": "code",
   "execution_count": 10,
   "metadata": {
    "ExecuteTime": {
     "end_time": "2020-05-23T12:46:22.204021Z",
     "start_time": "2020-05-23T12:46:22.196208Z"
    }
   },
   "outputs": [],
   "source": [
    "from torch.utils.data import TensorDataset, DataLoader\n",
    "\n",
    "\n",
    "def batch_data(words, sequence_length, batch_size):\n",
    "    \"\"\"\n",
    "    Batch the neural network data using DataLoader\n",
    "    :param words: The word ids of the TV scripts\n",
    "    :param sequence_length: The sequence length of each batch\n",
    "    :param batch_size: The size of each batch; the number of sequences in a batch\n",
    "    :return: DataLoader with batched data\n",
    "    \"\"\"\n",
    "    # TODO: Implement function\n",
    "    print(type(words), len(words), sequence_length, words[:50])\n",
    "\n",
    "    # getting the correct rows x cols shape\n",
    "    n_rows = len(words)-sequence_length-1\n",
    "    feature_tensors = np.zeros((n_rows, sequence_length), dtype=int)\n",
    "    target_tensors = np.zeros(n_rows, dtype=int)\n",
    "\n",
    "    # for each review, I grab that review and \n",
    "    for i in range(n_rows):\n",
    "        feature_tensors[i,:] = np.array(words[i:i+sequence_length])\n",
    "        target_tensors[i] = words[i+sequence_length]\n",
    "        \n",
    "    train_data = TensorDataset(torch.from_numpy(feature_tensors), torch.from_numpy(target_tensors) )\n",
    "    dataloader = DataLoader(train_data, shuffle=True, batch_size=batch_size)\n",
    "\n",
    "    return dataloader\n",
    "\n",
    "# there is no test for this function, but you are encouraged to create\n",
    "# print statements and tests of your own\n"
   ]
  },
  {
   "cell_type": "markdown",
   "metadata": {},
   "source": [
    "### Test your dataloader \n",
    "\n",
    "You'll have to modify this code to test a batching function, but it should look fairly similar.\n",
    "\n",
    "Below, we're generating some test text data and defining a dataloader using the function you defined, above. Then, we are getting some sample batch of inputs `sample_x` and targets `sample_y` from our dataloader.\n",
    "\n",
    "Your code should return something like the following (likely in a different order, if you shuffled your data):\n",
    "\n",
    "```\n",
    "torch.Size([10, 5])\n",
    "tensor([[ 28,  29,  30,  31,  32],\n",
    "        [ 21,  22,  23,  24,  25],\n",
    "        [ 17,  18,  19,  20,  21],\n",
    "        [ 34,  35,  36,  37,  38],\n",
    "        [ 11,  12,  13,  14,  15],\n",
    "        [ 23,  24,  25,  26,  27],\n",
    "        [  6,   7,   8,   9,  10],\n",
    "        [ 38,  39,  40,  41,  42],\n",
    "        [ 25,  26,  27,  28,  29],\n",
    "        [  7,   8,   9,  10,  11]])\n",
    "\n",
    "torch.Size([10])\n",
    "tensor([ 33,  26,  22,  39,  16,  28,  11,  43,  30,  12])\n",
    "```\n",
    "\n",
    "### Sizes\n",
    "Your sample_x should be of size `(batch_size, sequence_length)` or (10, 5) in this case and sample_y should just have one dimension: batch_size (10). \n",
    "\n",
    "### Values\n",
    "\n",
    "You should also notice that the targets, sample_y, are the *next* value in the ordered test_text data. So, for an input sequence `[ 28,  29,  30,  31,  32]` that ends with the value `32`, the corresponding output should be `33`."
   ]
  },
  {
   "cell_type": "code",
   "execution_count": 11,
   "metadata": {
    "ExecuteTime": {
     "end_time": "2020-05-23T12:46:22.223793Z",
     "start_time": "2020-05-23T12:46:22.206021Z"
    }
   },
   "outputs": [
    {
     "name": "stdout",
     "output_type": "stream",
     "text": [
      "<class 'range'> 50 5 range(0, 50)\n",
      "torch.Size([10, 5])\n",
      "tensor([[36, 37, 38, 39, 40],\n",
      "        [37, 38, 39, 40, 41],\n",
      "        [41, 42, 43, 44, 45],\n",
      "        [42, 43, 44, 45, 46],\n",
      "        [11, 12, 13, 14, 15],\n",
      "        [15, 16, 17, 18, 19],\n",
      "        [26, 27, 28, 29, 30],\n",
      "        [40, 41, 42, 43, 44],\n",
      "        [23, 24, 25, 26, 27],\n",
      "        [13, 14, 15, 16, 17]])\n",
      "\n",
      "torch.Size([10])\n",
      "tensor([41, 42, 46, 47, 16, 20, 31, 45, 28, 18])\n"
     ]
    }
   ],
   "source": [
    "# test dataloader\n",
    "\n",
    "test_text = range(50)\n",
    "t_loader = batch_data(test_text, sequence_length=5, batch_size=10)\n",
    "\n",
    "data_iter = iter(t_loader)\n",
    "sample_x, sample_y = data_iter.next()\n",
    "\n",
    "print(sample_x.shape)\n",
    "print(sample_x)\n",
    "print()\n",
    "print(sample_y.shape)\n",
    "print(sample_y)"
   ]
  },
  {
   "cell_type": "markdown",
   "metadata": {},
   "source": [
    "---\n",
    "## Build the Neural Network\n",
    "Implement an RNN using PyTorch's [Module class](http://pytorch.org/docs/master/nn.html#torch.nn.Module). You may choose to use a GRU or an LSTM. To complete the RNN, you'll have to implement the following functions for the class:\n",
    " - `__init__` - The initialize function. \n",
    " - `init_hidden` - The initialization function for an LSTM/GRU hidden state\n",
    " - `forward` - Forward propagation function.\n",
    " \n",
    "The initialize function should create the layers of the neural network and save them to the class. The forward propagation function will use these layers to run forward propagation and generate an output and a hidden state.\n",
    "\n",
    "**The output of this model should be the *last* batch of word scores** after a complete sequence has been processed. That is, for each input sequence of words, we only want to output the word scores for a single, most likely, next word.\n",
    "\n",
    "### Hints\n",
    "\n",
    "1. Make sure to stack the outputs of the lstm to pass to your fully-connected layer, you can do this with `lstm_output = lstm_output.contiguous().view(-1, self.hidden_dim)`\n",
    "2. You can get the last batch of word scores by shaping the output of the final, fully-connected layer like so:\n",
    "\n",
    "```\n",
    "# reshape into (batch_size, seq_length, output_size)\n",
    "output = output.view(batch_size, -1, self.output_size)\n",
    "# get last batch\n",
    "out = output[:, -1]\n",
    "```"
   ]
  },
  {
   "cell_type": "code",
   "execution_count": 12,
   "metadata": {
    "ExecuteTime": {
     "end_time": "2020-05-23T12:46:23.978131Z",
     "start_time": "2020-05-23T12:46:22.229141Z"
    }
   },
   "outputs": [
    {
     "name": "stdout",
     "output_type": "stream",
     "text": [
      "Tests Passed\n"
     ]
    }
   ],
   "source": [
    "import torch.nn as nn\n",
    "\n",
    "class RNN(nn.Module):\n",
    "    \n",
    "    def __init__(self, vocab_size, output_size, embedding_dim, hidden_dim, n_layers, dropout=0.5):\n",
    "        \"\"\"\n",
    "        Initialize the PyTorch RNN Module\n",
    "        :param vocab_size: The number of input dimensions of the neural network (the size of the vocabulary)\n",
    "        :param output_size: The number of output dimensions of the neural network\n",
    "        :param embedding_dim: The size of embeddings, should you choose to use them        \n",
    "        :param hidden_dim: The size of the hidden layer outputs\n",
    "        :param dropout: dropout to add in between LSTM/GRU layers\n",
    "        \"\"\"\n",
    "        super(RNN, self).__init__()\n",
    "\n",
    "        self.output_size = output_size\n",
    "        self.n_layers = n_layers\n",
    "        self.hidden_dim = hidden_dim\n",
    "        \n",
    "        # define all layers\n",
    "        self.embedding = nn.Embedding(vocab_size, embedding_dim)\n",
    "        self.lstm = nn.LSTM(embedding_dim, hidden_dim, n_layers, dropout=dropout, batch_first=True)\n",
    "\n",
    "        self.dropout = nn.Dropout(0.25)\n",
    "        self.fc = nn.Linear(hidden_dim, output_size)\n",
    "    \n",
    "    \n",
    "    def forward(self, nn_input, hidden):\n",
    "        \"\"\"\n",
    "        Forward propagation of the neural network\n",
    "        :param nn_input: The input to the neural network\n",
    "        :param hidden: The hidden state        \n",
    "        :return: Two Tensors, the output of the neural network and the latest hidden state\n",
    "        \"\"\"\n",
    "        # TODO: Implement function   \n",
    "        batch_size = nn_input.size(0)\n",
    "\n",
    "        # embeddings and lstm_out\n",
    "        x = nn_input.long()\n",
    "        embeds = self.embedding(x)\n",
    "        lstm_out, hidden = self.lstm(embeds, hidden)\n",
    "    \n",
    "        # stack up lstm outputs\n",
    "        lstm_out = lstm_out.contiguous().view(-1, self.hidden_dim)\n",
    "        \n",
    "        # fully-connected layer\n",
    "        out = self.fc(lstm_out)\n",
    "        \n",
    "        # reshape into (batch_size, seq_length, output_size)\n",
    "        out = out.view(batch_size, -1, self.output_size)\n",
    "\n",
    "        out = out[:, -1] # get last batch of labels\n",
    "        \n",
    "        # return one batch of output word scores and the hidden state\n",
    "        return out, hidden\n",
    "    \n",
    "    \n",
    "    def init_hidden(self, batch_size):\n",
    "        '''\n",
    "        Initialize the hidden state of an LSTM/GRU\n",
    "        :param batch_size: The batch_size of the hidden state\n",
    "        :return: hidden state of dims (n_layers, batch_size, hidden_dim)\n",
    "        '''\n",
    "        # Implement function\n",
    "        \n",
    "        # initialize hidden state with zero weights, and move to GPU if available  \n",
    "        weight = next(self.parameters()).data\n",
    "        \n",
    "        if (train_on_gpu):\n",
    "            hidden = (weight.new(self.n_layers, batch_size, self.hidden_dim).zero_().cuda(),\n",
    "                  weight.new(self.n_layers, batch_size, self.hidden_dim).zero_().cuda())\n",
    "        else:\n",
    "            hidden = (weight.new(self.n_layers, batch_size, self.hidden_dim).zero_(),\n",
    "                      weight.new(self.n_layers, batch_size, self.hidden_dim).zero_())\n",
    "\n",
    "        return hidden\n",
    "\n",
    "\"\"\"\n",
    "DON'T MODIFY ANYTHING IN THIS CELL THAT IS BELOW THIS LINE\n",
    "\"\"\"\n",
    "tests.test_rnn(RNN, train_on_gpu)"
   ]
  },
  {
   "cell_type": "markdown",
   "metadata": {},
   "source": [
    "### Define forward and backpropagation\n",
    "\n",
    "Use the RNN class you implemented to apply forward and back propagation. This function will be called, iteratively, in the training loop as follows:\n",
    "```\n",
    "loss = forward_back_prop(decoder, decoder_optimizer, criterion, inp, target)\n",
    "```\n",
    "\n",
    "And it should return the average loss over a batch and the hidden state returned by a call to `RNN(inp, hidden)`. Recall that you can get this loss by computing it, as usual, and calling `loss.item()`.\n",
    "\n",
    "**If a GPU is available, you should move your data to that GPU device, here.**"
   ]
  },
  {
   "cell_type": "code",
   "execution_count": 13,
   "metadata": {
    "ExecuteTime": {
     "end_time": "2020-05-23T12:46:23.998305Z",
     "start_time": "2020-05-23T12:46:23.979949Z"
    }
   },
   "outputs": [
    {
     "name": "stdout",
     "output_type": "stream",
     "text": [
      "Tests Passed\n"
     ]
    }
   ],
   "source": [
    "def forward_back_prop(rnn, optimizer, criterion, inp, target, hidden):\n",
    "    \"\"\"\n",
    "    Forward and backward propagation on the neural network\n",
    "    :param rnn: The PyTorch Module that holds the neural network\n",
    "    :param optimizer: The PyTorch optimizer for the neural network\n",
    "    :param criterion: The PyTorch loss function\n",
    "    :param inp: A batch of input to the neural network\n",
    "    :param target: The target output for the batch of input\n",
    "    :return: The loss and the latest hidden state Tensor\n",
    "    \"\"\"\n",
    "    \n",
    "    # TODO: Implement Function\n",
    "    # move data to GPU, if available\n",
    "    if(train_on_gpu):\n",
    "        inputs, labels = inp.cuda(), target.cuda()\n",
    "    else:\n",
    "        inputs, labels = inp, target\n",
    "\n",
    "    # Creating new variables for the hidden state, otherwise\n",
    "    # we'd backprop through the entire training history\n",
    "    hidden = tuple([each.data for each in hidden])\n",
    "\n",
    "    # zero accumulated gradients\n",
    "    rnn.zero_grad()\n",
    "\n",
    "    # get the output from the model\n",
    "    output, hidden = rnn(inputs, hidden)\n",
    "\n",
    "    loss = criterion(output, labels)\n",
    "\n",
    "    loss.backward()\n",
    "\n",
    "    # clip_grad_norm helps prevent the exploding gradient problem in RNNs / LSTMs.\n",
    "    clip=5 # gradient clipping       \n",
    "    nn.utils.clip_grad_norm_(rnn.parameters(), clip)\n",
    "    \n",
    "    optimizer.step()\n",
    "\n",
    "    # return the loss over a batch and the hidden state produced by our model\n",
    "    return float(loss.data), hidden\n",
    "\n",
    "# Note that these tests aren't completely extensive.\n",
    "# they are here to act as general checks on the expected outputs of your functions\n",
    "\"\"\"\n",
    "DON'T MODIFY ANYTHING IN THIS CELL THAT IS BELOW THIS LINE\n",
    "\"\"\"\n",
    "tests.test_forward_back_prop(RNN, forward_back_prop, train_on_gpu)"
   ]
  },
  {
   "cell_type": "markdown",
   "metadata": {},
   "source": [
    "## Neural Network Training\n",
    "\n",
    "With the structure of the network complete and data ready to be fed in the neural network, it's time to train it.\n",
    "\n",
    "### Train Loop\n",
    "\n",
    "The training loop is implemented for you in the `train_decoder` function. This function will train the network over all the batches for the number of epochs given. The model progress will be shown every number of batches. This number is set with the `show_every_n_batches` parameter. You'll set this parameter along with other parameters in the next section."
   ]
  },
  {
   "cell_type": "code",
   "execution_count": 14,
   "metadata": {
    "ExecuteTime": {
     "end_time": "2020-05-23T12:46:24.014192Z",
     "start_time": "2020-05-23T12:46:24.000479Z"
    }
   },
   "outputs": [],
   "source": [
    "\"\"\"\n",
    "DON'T MODIFY ANYTHING IN THIS CELL\n",
    "\"\"\"\n",
    "\n",
    "def train_rnn(rnn, batch_size, optimizer, criterion, n_epochs, show_every_n_batches=100):\n",
    "    batch_losses = []\n",
    "    \n",
    "    rnn.train()\n",
    "\n",
    "    print(\"Training for %d epoch(s)...\" % n_epochs)\n",
    "    for epoch_i in range(1, n_epochs + 1):\n",
    "        \n",
    "        # initialize hidden state\n",
    "        hidden = rnn.init_hidden(batch_size)\n",
    "        \n",
    "        for batch_i, (inputs, labels) in enumerate(train_loader, 1):\n",
    "            \n",
    "            # make sure you iterate over completely full batches, only\n",
    "            n_batches = len(train_loader.dataset)//batch_size\n",
    "            if(batch_i > n_batches):\n",
    "                break\n",
    "            \n",
    "            # forward, back prop\n",
    "            try: \n",
    "                loss, hidden = forward_back_prop(rnn, optimizer, criterion, inputs, labels, hidden)\n",
    "            except RuntimeError:\n",
    "                print(rnn, optimizer, criterion, inputs, labels, hidden)\n",
    "            \n",
    "            # record loss\n",
    "            batch_losses.append(loss)\n",
    "\n",
    "            # printing loss stats\n",
    "            if batch_i % show_every_n_batches == 0:\n",
    "                print('Epoch: {:>4}/{:<4}  Loss: {}\\n'.format(\n",
    "                    epoch_i, n_epochs, np.average(batch_losses)))\n",
    "                batch_losses = []\n",
    "\n",
    "    # returns a trained rnn\n",
    "    return rnn"
   ]
  },
  {
   "cell_type": "markdown",
   "metadata": {},
   "source": [
    "### Hyperparameters\n",
    "\n",
    "Set and train the neural network with the following parameters:\n",
    "- Set `sequence_length` to the length of a sequence.\n",
    "- Set `batch_size` to the batch size.\n",
    "- Set `num_epochs` to the number of epochs to train for.\n",
    "- Set `learning_rate` to the learning rate for an Adam optimizer.\n",
    "- Set `vocab_size` to the number of unique tokens in our vocabulary.\n",
    "- Set `output_size` to the desired size of the output.\n",
    "- Set `embedding_dim` to the embedding dimension; smaller than the vocab_size.\n",
    "- Set `hidden_dim` to the hidden dimension of your RNN.\n",
    "- Set `n_layers` to the number of layers/cells in your RNN.\n",
    "- Set `show_every_n_batches` to the number of batches at which the neural network should print progress.\n",
    "\n",
    "If the network isn't getting the desired results, tweak these parameters and/or the layers in the `RNN` class."
   ]
  },
  {
   "cell_type": "code",
   "execution_count": 15,
   "metadata": {
    "ExecuteTime": {
     "end_time": "2020-05-23T12:46:27.419511Z",
     "start_time": "2020-05-23T12:46:24.016629Z"
    }
   },
   "outputs": [
    {
     "name": "stdout",
     "output_type": "stream",
     "text": [
      "<class 'list'> 892110 32 [25, 23, 48, 2, 2, 2, 18, 48, 23, 83, 21, 7, 1252, 546, 8780, 7188, 21, 242, 2, 150, 2, 2, 2, 85, 5, 201, 239, 150, 209, 59, 56, 136, 65, 48, 4, 25, 23, 19, 678, 209, 59, 2, 2, 2, 25, 221, 127, 3, 122, 51]\n"
     ]
    }
   ],
   "source": [
    "# Data params\n",
    "# Sequence Length\n",
    "sequence_length = 32  # of words in a sequence\n",
    "# Batch Size\n",
    "batch_size = 64\n",
    "\n",
    "# data loader - do not change\n",
    "train_loader = batch_data(int_text, sequence_length, batch_size)"
   ]
  },
  {
   "cell_type": "code",
   "execution_count": 16,
   "metadata": {
    "ExecuteTime": {
     "end_time": "2020-05-23T12:46:27.425576Z",
     "start_time": "2020-05-23T12:46:27.420834Z"
    }
   },
   "outputs": [],
   "source": [
    "# Training parameters\n",
    "# Number of Epochs\n",
    "num_epochs = 7\n",
    "# Learning Rate\n",
    "learning_rate = 0.001\n",
    "\n",
    "# Model parameters\n",
    "# Vocab size\n",
    "vocab_size = len(set(vocab_to_int))\n",
    "# Output size\n",
    "output_size = vocab_size\n",
    "# Embedding Dimension\n",
    "embedding_dim = 256\n",
    "# Hidden Dimension\n",
    "hidden_dim = 512\n",
    "# Number of LSTM Layers\n",
    "n_layers = 2\n",
    "\n",
    "# Show stats for every n number of batches\n",
    "show_every_n_batches = 500"
   ]
  },
  {
   "cell_type": "markdown",
   "metadata": {},
   "source": [
    "### Train\n",
    "In the next cell, you'll train the neural network on the pre-processed data.  If you have a hard time getting a good loss, you may consider changing your hyperparameters. In general, you may get better results with larger hidden and n_layer dimensions, but larger models take a longer time to train. \n",
    "> **You should aim for a loss less than 3.5.** \n",
    "\n",
    "You should also experiment with different sequence lengths, which determine the size of the long range dependencies that a model can learn."
   ]
  },
  {
   "cell_type": "code",
   "execution_count": 17,
   "metadata": {
    "ExecuteTime": {
     "end_time": "2020-05-23T19:10:47.046226Z",
     "start_time": "2020-05-23T12:46:27.427453Z"
    },
    "scrolled": false
   },
   "outputs": [
    {
     "name": "stdout",
     "output_type": "stream",
     "text": [
      "RNN(\n",
      "  (embedding): Embedding(21384, 256)\n",
      "  (lstm): LSTM(256, 512, num_layers=2, batch_first=True, dropout=0.5)\n",
      "  (dropout): Dropout(p=0.25, inplace=False)\n",
      "  (fc): Linear(in_features=512, out_features=21384, bias=True)\n",
      ")\n",
      "Training for 7 epoch(s)...\n",
      "Epoch:    1/7     Loss: 5.440127225399017\n",
      "\n",
      "Epoch:    1/7     Loss: 4.897754967212677\n",
      "\n",
      "Epoch:    1/7     Loss: 4.680213342666626\n",
      "\n",
      "Epoch:    1/7     Loss: 4.530625684738159\n",
      "\n",
      "Epoch:    1/7     Loss: 4.477496458053589\n",
      "\n",
      "Epoch:    1/7     Loss: 4.4489430527687075\n",
      "\n",
      "Epoch:    1/7     Loss: 4.380565386295318\n",
      "\n",
      "Epoch:    1/7     Loss: 4.35412612247467\n",
      "\n",
      "Epoch:    1/7     Loss: 4.334784769058228\n",
      "\n",
      "Epoch:    1/7     Loss: 4.314755368709564\n",
      "\n",
      "Epoch:    1/7     Loss: 4.274496835231781\n",
      "\n",
      "Epoch:    1/7     Loss: 4.265003135681153\n",
      "\n",
      "Epoch:    1/7     Loss: 4.2271694922447205\n",
      "\n",
      "Epoch:    1/7     Loss: 4.175936364173889\n",
      "\n",
      "Epoch:    1/7     Loss: 4.173582122802735\n",
      "\n",
      "Epoch:    1/7     Loss: 4.127317697525024\n",
      "\n",
      "Epoch:    1/7     Loss: 4.146075783729553\n",
      "\n",
      "Epoch:    1/7     Loss: 4.097160451412201\n",
      "\n",
      "Epoch:    1/7     Loss: 4.096870188236236\n",
      "\n",
      "Epoch:    1/7     Loss: 4.12374263381958\n",
      "\n",
      "Epoch:    1/7     Loss: 4.050253786087036\n",
      "\n",
      "Epoch:    1/7     Loss: 4.087054382324219\n",
      "\n",
      "Epoch:    1/7     Loss: 4.1159306249618535\n",
      "\n",
      "Epoch:    1/7     Loss: 4.084246746540069\n",
      "\n",
      "Epoch:    1/7     Loss: 4.060337846279144\n",
      "\n",
      "Epoch:    1/7     Loss: 4.0439495315551754\n",
      "\n",
      "Epoch:    1/7     Loss: 4.032072714805603\n",
      "\n",
      "Epoch:    2/7     Loss: 3.941748465810503\n",
      "\n",
      "Epoch:    2/7     Loss: 3.8693338651657103\n",
      "\n",
      "Epoch:    2/7     Loss: 3.8512733607292176\n",
      "\n",
      "Epoch:    2/7     Loss: 3.8223975238800048\n",
      "\n",
      "Epoch:    2/7     Loss: 3.822737952232361\n",
      "\n",
      "Epoch:    2/7     Loss: 3.8429362573623655\n",
      "\n",
      "Epoch:    2/7     Loss: 3.8815074272155763\n",
      "\n",
      "Epoch:    2/7     Loss: 3.8553989009857177\n",
      "\n",
      "Epoch:    2/7     Loss: 3.8375838875770567\n",
      "\n",
      "Epoch:    2/7     Loss: 3.9019121417999267\n",
      "\n",
      "Epoch:    2/7     Loss: 3.903789119243622\n",
      "\n",
      "Epoch:    2/7     Loss: 3.847796236038208\n",
      "\n",
      "Epoch:    2/7     Loss: 3.8659792437553406\n",
      "\n",
      "Epoch:    2/7     Loss: 3.8395901260375975\n",
      "\n",
      "Epoch:    2/7     Loss: 3.8680261654853823\n",
      "\n",
      "Epoch:    2/7     Loss: 3.8930205755233764\n",
      "\n",
      "Epoch:    2/7     Loss: 3.841625497817993\n",
      "\n",
      "Epoch:    2/7     Loss: 3.866253490447998\n",
      "\n",
      "Epoch:    2/7     Loss: 3.86496945476532\n",
      "\n",
      "Epoch:    2/7     Loss: 3.878799920082092\n",
      "\n",
      "Epoch:    2/7     Loss: 3.8804102311134336\n",
      "\n",
      "Epoch:    2/7     Loss: 3.88853129529953\n",
      "\n",
      "Epoch:    2/7     Loss: 3.8769692821502684\n",
      "\n",
      "Epoch:    2/7     Loss: 3.9134617743492126\n",
      "\n",
      "Epoch:    2/7     Loss: 3.8967726798057556\n",
      "\n",
      "Epoch:    2/7     Loss: 3.875201427936554\n",
      "\n",
      "Epoch:    2/7     Loss: 3.914641480445862\n",
      "\n",
      "Epoch:    3/7     Loss: 3.748516866901536\n",
      "\n",
      "Epoch:    3/7     Loss: 3.672148921966553\n",
      "\n",
      "Epoch:    3/7     Loss: 3.649857009410858\n",
      "\n",
      "Epoch:    3/7     Loss: 3.692138476371765\n",
      "\n",
      "Epoch:    3/7     Loss: 3.663156278133392\n",
      "\n",
      "Epoch:    3/7     Loss: 3.679047279834747\n",
      "\n",
      "Epoch:    3/7     Loss: 3.6694063229560854\n",
      "\n",
      "Epoch:    3/7     Loss: 3.712371220111847\n",
      "\n",
      "Epoch:    3/7     Loss: 3.6903881068229674\n",
      "\n",
      "Epoch:    3/7     Loss: 3.694471092700958\n",
      "\n",
      "Epoch:    3/7     Loss: 3.704854001045227\n",
      "\n",
      "Epoch:    3/7     Loss: 3.689842242717743\n",
      "\n",
      "Epoch:    3/7     Loss: 3.7579155130386352\n",
      "\n",
      "Epoch:    3/7     Loss: 3.737253586769104\n",
      "\n",
      "Epoch:    3/7     Loss: 3.72706632900238\n",
      "\n",
      "Epoch:    3/7     Loss: 3.7433354930877685\n",
      "\n",
      "Epoch:    3/7     Loss: 3.71257719039917\n",
      "\n",
      "Epoch:    3/7     Loss: 3.759409801006317\n",
      "\n",
      "Epoch:    3/7     Loss: 3.729119296550751\n",
      "\n",
      "Epoch:    3/7     Loss: 3.7226998748779296\n",
      "\n",
      "Epoch:    3/7     Loss: 3.7610828914642336\n",
      "\n",
      "Epoch:    3/7     Loss: 3.7970821633338927\n",
      "\n",
      "Epoch:    3/7     Loss: 3.770445281982422\n",
      "\n",
      "Epoch:    3/7     Loss: 3.7594774432182314\n",
      "\n",
      "Epoch:    3/7     Loss: 3.756800744533539\n",
      "\n",
      "Epoch:    3/7     Loss: 3.7751384620666504\n",
      "\n",
      "Epoch:    3/7     Loss: 3.7918020520210267\n",
      "\n",
      "Epoch:    4/7     Loss: 3.6449039628002433\n",
      "\n",
      "Epoch:    4/7     Loss: 3.5106687302589417\n",
      "\n",
      "Epoch:    4/7     Loss: 3.5290410652160644\n",
      "\n",
      "Epoch:    4/7     Loss: 3.5443011288642885\n",
      "\n",
      "Epoch:    4/7     Loss: 3.544130033016205\n",
      "\n",
      "Epoch:    4/7     Loss: 3.5624384779930116\n",
      "\n",
      "Epoch:    4/7     Loss: 3.5637647004127504\n",
      "\n",
      "Epoch:    4/7     Loss: 3.569939075469971\n",
      "\n",
      "Epoch:    4/7     Loss: 3.5743988256454466\n",
      "\n",
      "Epoch:    4/7     Loss: 3.5669960861206054\n",
      "\n",
      "Epoch:    4/7     Loss: 3.607184049129486\n",
      "\n",
      "Epoch:    4/7     Loss: 3.6257673621177675\n",
      "\n",
      "Epoch:    4/7     Loss: 3.604689902305603\n",
      "\n",
      "Epoch:    4/7     Loss: 3.5941504912376403\n",
      "\n",
      "Epoch:    4/7     Loss: 3.659016770362854\n",
      "\n",
      "Epoch:    4/7     Loss: 3.6350736808776856\n",
      "\n",
      "Epoch:    4/7     Loss: 3.666177755355835\n",
      "\n",
      "Epoch:    4/7     Loss: 3.629788129329681\n",
      "\n",
      "Epoch:    4/7     Loss: 3.6585483021736147\n",
      "\n",
      "Epoch:    4/7     Loss: 3.679232474327087\n",
      "\n",
      "Epoch:    4/7     Loss: 3.6127443680763243\n",
      "\n",
      "Epoch:    4/7     Loss: 3.668506244182587\n",
      "\n",
      "Epoch:    4/7     Loss: 3.6939528884887696\n",
      "\n",
      "Epoch:    4/7     Loss: 3.647709415435791\n",
      "\n",
      "Epoch:    4/7     Loss: 3.6739447102546694\n",
      "\n",
      "Epoch:    4/7     Loss: 3.6843781561851503\n",
      "\n",
      "Epoch:    4/7     Loss: 3.7024223728179932\n",
      "\n",
      "Epoch:    5/7     Loss: 3.5740769814326563\n",
      "\n",
      "Epoch:    5/7     Loss: 3.4174180455207823\n",
      "\n",
      "Epoch:    5/7     Loss: 3.4536514801979066\n",
      "\n",
      "Epoch:    5/7     Loss: 3.4686670536994932\n",
      "\n",
      "Epoch:    5/7     Loss: 3.4594988942146303\n",
      "\n",
      "Epoch:    5/7     Loss: 3.463566790103912\n",
      "\n",
      "Epoch:    5/7     Loss: 3.467808780193329\n",
      "\n",
      "Epoch:    5/7     Loss: 3.476718333721161\n",
      "\n",
      "Epoch:    5/7     Loss: 3.502764928817749\n",
      "\n",
      "Epoch:    5/7     Loss: 3.4945299158096312\n",
      "\n",
      "Epoch:    5/7     Loss: 3.509504997253418\n",
      "\n",
      "Epoch:    5/7     Loss: 3.5312786660194395\n",
      "\n",
      "Epoch:    5/7     Loss: 3.510157462120056\n",
      "\n",
      "Epoch:    5/7     Loss: 3.503564238548279\n",
      "\n",
      "Epoch:    5/7     Loss: 3.5344916486740114\n",
      "\n",
      "Epoch:    5/7     Loss: 3.5214456329345705\n",
      "\n",
      "Epoch:    5/7     Loss: 3.555229040145874\n",
      "\n",
      "Epoch:    5/7     Loss: 3.5498494777679444\n",
      "\n",
      "Epoch:    5/7     Loss: 3.5592599000930787\n",
      "\n",
      "Epoch:    5/7     Loss: 3.555350459575653\n",
      "\n",
      "Epoch:    5/7     Loss: 3.618158135890961\n",
      "\n",
      "Epoch:    5/7     Loss: 3.5623470377922057\n",
      "\n",
      "Epoch:    5/7     Loss: 3.5871895570755004\n",
      "\n",
      "Epoch:    5/7     Loss: 3.6055741362571716\n",
      "\n",
      "Epoch:    5/7     Loss: 3.605754216194153\n",
      "\n",
      "Epoch:    5/7     Loss: 3.5829739995002745\n",
      "\n",
      "Epoch:    5/7     Loss: 3.5997953104972837\n",
      "\n",
      "Epoch:    6/7     Loss: 3.4851539391698614\n",
      "\n",
      "Epoch:    6/7     Loss: 3.3613112268447876\n",
      "\n",
      "Epoch:    6/7     Loss: 3.368417363166809\n",
      "\n",
      "Epoch:    6/7     Loss: 3.3763419189453123\n",
      "\n",
      "Epoch:    6/7     Loss: 3.3974693484306338\n",
      "\n",
      "Epoch:    6/7     Loss: 3.3874406900405885\n",
      "\n",
      "Epoch:    6/7     Loss: 3.3713042101860045\n",
      "\n",
      "Epoch:    6/7     Loss: 3.4227574915885923\n",
      "\n",
      "Epoch:    6/7     Loss: 3.44297208738327\n",
      "\n",
      "Epoch:    6/7     Loss: 3.4201958565711976\n",
      "\n",
      "Epoch:    6/7     Loss: 3.459585627555847\n",
      "\n",
      "Epoch:    6/7     Loss: 3.4582015042304994\n",
      "\n",
      "Epoch:    6/7     Loss: 3.421358411312103\n",
      "\n",
      "Epoch:    6/7     Loss: 3.445003173351288\n",
      "\n",
      "Epoch:    6/7     Loss: 3.4456550664901733\n",
      "\n",
      "Epoch:    6/7     Loss: 3.485937143802643\n",
      "\n",
      "Epoch:    6/7     Loss: 3.4927955327033997\n",
      "\n",
      "Epoch:    6/7     Loss: 3.4833500928878784\n",
      "\n",
      "Epoch:    6/7     Loss: 3.5039338874816894\n",
      "\n",
      "Epoch:    6/7     Loss: 3.4853085083961486\n",
      "\n",
      "Epoch:    6/7     Loss: 3.4802650952339174\n",
      "\n",
      "Epoch:    6/7     Loss: 3.5191545062065126\n",
      "\n",
      "Epoch:    6/7     Loss: 3.52607638835907\n",
      "\n",
      "Epoch:    6/7     Loss: 3.516192787647247\n",
      "\n",
      "Epoch:    6/7     Loss: 3.563179894924164\n",
      "\n",
      "Epoch:    6/7     Loss: 3.505838517189026\n",
      "\n",
      "Epoch:    6/7     Loss: 3.5872170176506044\n",
      "\n",
      "Epoch:    7/7     Loss: 3.4303122687695633\n",
      "\n",
      "Epoch:    7/7     Loss: 3.2928627119064333\n",
      "\n",
      "Epoch:    7/7     Loss: 3.3060529613494873\n",
      "\n",
      "Epoch:    7/7     Loss: 3.317435031890869\n",
      "\n",
      "Epoch:    7/7     Loss: 3.305982421398163\n",
      "\n",
      "Epoch:    7/7     Loss: 3.327086359500885\n",
      "\n",
      "Epoch:    7/7     Loss: 3.3422680926322936\n",
      "\n",
      "Epoch:    7/7     Loss: 3.349820451259613\n",
      "\n",
      "Epoch:    7/7     Loss: 3.329127327442169\n",
      "\n",
      "Epoch:    7/7     Loss: 3.3777764086723328\n",
      "\n",
      "Epoch:    7/7     Loss: 3.4029650230407715\n",
      "\n",
      "Epoch:    7/7     Loss: 3.3862902793884277\n",
      "\n",
      "Epoch:    7/7     Loss: 3.38310046005249\n",
      "\n",
      "Epoch:    7/7     Loss: 3.424765935897827\n",
      "\n",
      "Epoch:    7/7     Loss: 3.424185378551483\n",
      "\n",
      "Epoch:    7/7     Loss: 3.4087417187690736\n",
      "\n",
      "Epoch:    7/7     Loss: 3.4233316488265992\n",
      "\n",
      "Epoch:    7/7     Loss: 3.414546513557434\n",
      "\n",
      "Epoch:    7/7     Loss: 3.4155345373153687\n",
      "\n",
      "Epoch:    7/7     Loss: 3.4409759402275086\n",
      "\n",
      "Epoch:    7/7     Loss: 3.4624198012351988\n",
      "\n"
     ]
    },
    {
     "name": "stdout",
     "output_type": "stream",
     "text": [
      "Epoch:    7/7     Loss: 3.4611520648002623\n",
      "\n",
      "Epoch:    7/7     Loss: 3.4611530981063843\n",
      "\n",
      "Epoch:    7/7     Loss: 3.485268301963806\n",
      "\n",
      "Epoch:    7/7     Loss: 3.501363962650299\n",
      "\n",
      "Epoch:    7/7     Loss: 3.489599482536316\n",
      "\n",
      "Epoch:    7/7     Loss: 3.5095097041130066\n",
      "\n",
      "Model Trained and Saved\n"
     ]
    },
    {
     "name": "stderr",
     "output_type": "stream",
     "text": [
      "/home/philip/.virtualenvs/deep_learn_py3/lib/python3.6/site-packages/torch/serialization.py:402: UserWarning: Couldn't retrieve source code for container of type RNN. It won't be checked for correctness upon loading.\n",
      "  \"type \" + obj.__name__ + \". It won't be checked \"\n"
     ]
    }
   ],
   "source": [
    "\"\"\"\n",
    "DON'T MODIFY ANYTHING IN THIS CELL\n",
    "\"\"\"\n",
    "# create model and move to gpu if available\n",
    "rnn = RNN(vocab_size, output_size, embedding_dim, hidden_dim, n_layers, dropout=0.5)\n",
    "if train_on_gpu:\n",
    "    rnn.cuda()\n",
    "    \n",
    "print(rnn)\n",
    "\n",
    "# defining loss and optimization functions for training\n",
    "optimizer = torch.optim.Adam(rnn.parameters(), lr=learning_rate)\n",
    "criterion = nn.CrossEntropyLoss()\n",
    "\n",
    "# training the model\n",
    "trained_rnn = train_rnn(rnn, batch_size, optimizer, criterion, num_epochs, show_every_n_batches)\n",
    "\n",
    "# saving the trained model\n",
    "helper.save_model('./save/trained_rnn', trained_rnn)\n",
    "print('Model Trained and Saved')"
   ]
  },
  {
   "cell_type": "markdown",
   "metadata": {},
   "source": [
    "### Question: How did you decide on your model hyperparameters? \n",
    "For example, did you try different sequence_lengths and find that one size made the model converge faster? What about your hidden_dim and n_layers; how did you decide on those?"
   ]
  },
  {
   "cell_type": "markdown",
   "metadata": {},
   "source": [
    "**Answer:** \n",
    "\n",
    "The vocab_size is the leng of vocab_to_int, which we set up at the beginning.\n",
    "\n",
    "After several trial and errors, I figure out some notice about the set of hyper-parameters.\n",
    "\n",
    "+ The output_size should be similar to the vocab_size for beter performance\n",
    "+ Smaller batch size will help prevent the memory issues\n",
    "+ We have to balance between the accuracy and computational time.\n",
    "\n",
    "For further improvement, we can set up the learning rate to decrease when hitting a plateau for a while.\n",
    "\n"
   ]
  },
  {
   "cell_type": "markdown",
   "metadata": {},
   "source": [
    "---\n",
    "# Checkpoint\n",
    "\n",
    "After running the above training cell, your model will be saved by name, `trained_rnn`, and if you save your notebook progress, **you can pause here and come back to this code at another time**. You can resume your progress by running the next cell, which will load in our word:id dictionaries _and_ load in your saved model by name!"
   ]
  },
  {
   "cell_type": "code",
   "execution_count": 18,
   "metadata": {
    "ExecuteTime": {
     "end_time": "2020-05-23T19:10:47.126488Z",
     "start_time": "2020-05-23T19:10:47.047907Z"
    }
   },
   "outputs": [],
   "source": [
    "\"\"\"\n",
    "DON'T MODIFY ANYTHING IN THIS CELL\n",
    "\"\"\"\n",
    "import torch\n",
    "import helper\n",
    "import problem_unittests as tests\n",
    "\n",
    "_, vocab_to_int, int_to_vocab, token_dict = helper.load_preprocess()\n",
    "trained_rnn = helper.load_model('./save/trained_rnn')"
   ]
  },
  {
   "cell_type": "markdown",
   "metadata": {},
   "source": [
    "## Generate TV Script\n",
    "With the network trained and saved, you'll use it to generate a new, \"fake\" Seinfeld TV script in this section.\n",
    "\n",
    "### Generate Text\n",
    "To generate the text, the network needs to start with a single word and repeat its predictions until it reaches a set length. You'll be using the `generate` function to do this. It takes a word id to start with, `prime_id`, and generates a set length of text, `predict_len`. Also note that it uses topk sampling to introduce some randomness in choosing the most likely next word, given an output set of word scores!"
   ]
  },
  {
   "cell_type": "code",
   "execution_count": 19,
   "metadata": {
    "ExecuteTime": {
     "end_time": "2020-05-23T19:10:47.145127Z",
     "start_time": "2020-05-23T19:10:47.127925Z"
    }
   },
   "outputs": [],
   "source": [
    "\"\"\"\n",
    "DON'T MODIFY ANYTHING IN THIS CELL THAT IS BELOW THIS LINE\n",
    "\"\"\"\n",
    "import torch.nn.functional as F\n",
    "\n",
    "def generate(rnn, prime_id, int_to_vocab, token_dict, pad_value, predict_len=100):\n",
    "    \"\"\"\n",
    "    Generate text using the neural network\n",
    "    :param decoder: The PyTorch Module that holds the trained neural network\n",
    "    :param prime_id: The word id to start the first prediction\n",
    "    :param int_to_vocab: Dict of word id keys to word values\n",
    "    :param token_dict: Dict of puncuation tokens keys to puncuation values\n",
    "    :param pad_value: The value used to pad a sequence\n",
    "    :param predict_len: The length of text to generate\n",
    "    :return: The generated text\n",
    "    \"\"\"\n",
    "    rnn.eval()\n",
    "    \n",
    "    # create a sequence (batch_size=1) with the prime_id\n",
    "    current_seq = np.full((1, sequence_length), pad_value)\n",
    "    current_seq[-1][-1] = prime_id\n",
    "    predicted = [int_to_vocab[prime_id]]\n",
    "    \n",
    "    for _ in range(predict_len):\n",
    "        if train_on_gpu:\n",
    "            current_seq = torch.LongTensor(current_seq).cuda()\n",
    "        else:\n",
    "            current_seq = torch.LongTensor(current_seq)\n",
    "        \n",
    "        # initialize the hidden state\n",
    "        hidden = rnn.init_hidden(current_seq.size(0))\n",
    "        \n",
    "        # get the output of the rnn\n",
    "        output, _ = rnn(current_seq, hidden)\n",
    "        \n",
    "        # get the next word probabilities\n",
    "        p = F.softmax(output, dim=1).data\n",
    "        if(train_on_gpu):\n",
    "            p = p.cpu() # move to cpu\n",
    "         \n",
    "        # use top_k sampling to get the index of the next word\n",
    "        top_k = 5\n",
    "        p, top_i = p.topk(top_k)\n",
    "        top_i = top_i.numpy().squeeze()\n",
    "        \n",
    "        # select the likely next word index with some element of randomness\n",
    "        p = p.numpy().squeeze()\n",
    "        word_i = np.random.choice(top_i, p=p/p.sum())\n",
    "        \n",
    "        # retrieve that word from the dictionary\n",
    "        word = int_to_vocab[word_i]\n",
    "        predicted.append(word)     \n",
    "        \n",
    "        if(train_on_gpu):\n",
    "            current_seq = current_seq.cpu() # move to cpu\n",
    "        # the generated word becomes the next \"current sequence\" and the cycle can continue\n",
    "        if train_on_gpu:\n",
    "            current_seq = current_seq.cpu()\n",
    "        current_seq = np.roll(current_seq, -1, 1)\n",
    "        current_seq[-1][-1] = word_i\n",
    "    \n",
    "    gen_sentences = ' '.join(predicted)\n",
    "    \n",
    "    # Replace punctuation tokens\n",
    "    for key, token in token_dict.items():\n",
    "        ending = ' ' if key in ['\\n', '(', '\"'] else ''\n",
    "        gen_sentences = gen_sentences.replace(' ' + token.lower(), key)\n",
    "    gen_sentences = gen_sentences.replace('\\n ', '\\n')\n",
    "    gen_sentences = gen_sentences.replace('( ', '(')\n",
    "    \n",
    "    # return all the sentences\n",
    "    return gen_sentences"
   ]
  },
  {
   "cell_type": "markdown",
   "metadata": {},
   "source": [
    "### Generate a New Script\n",
    "It's time to generate the text. Set `gen_length` to the length of TV script you want to generate and set `prime_word` to one of the following to start the prediction:\n",
    "- \"jerry\"\n",
    "- \"elaine\"\n",
    "- \"george\"\n",
    "- \"kramer\"\n",
    "\n",
    "You can set the prime word to _any word_ in our dictionary, but it's best to start with a name for generating a TV script. (You can also start with any other names you find in the original text file!)"
   ]
  },
  {
   "cell_type": "code",
   "execution_count": 20,
   "metadata": {
    "ExecuteTime": {
     "end_time": "2020-05-23T19:10:49.724824Z",
     "start_time": "2020-05-23T19:10:47.147332Z"
    }
   },
   "outputs": [
    {
     "name": "stdout",
     "output_type": "stream",
     "text": [
      "jerry: gasoline...\n",
      "\n",
      "george: oh, you know what i mean? i don't think so. i don't know. i can't believe i can get the hell out of here.\n",
      "\n",
      "jerry: what are you gonna do?\n",
      "\n",
      "elaine: i just can't tell him that.\n",
      "\n",
      "elaine: you mean, 'what do we do?\n",
      "\n",
      "jerry: i don't know what to do.\n",
      "\n",
      "elaine: oh, no no, i can't. i can't do that, but i don't want to be.\n",
      "\n",
      "jerry: no.\n",
      "\n",
      "kramer: oh, no.\n",
      "\n",
      "jerry: you don't even know how to do it for you?\n",
      "\n",
      "george: i can't believe it.\n",
      "\n",
      "jerry: i don't know, i know.\n",
      "\n",
      "jerry: i don't know what it was, but i don't know why she is a friend about your parents.\n",
      "\n",
      "elaine:(laughs) i mean, i'm not a little nervous. i can't do that, i can't do this.\n",
      "\n",
      "kramer:(to jerry) you can't do it.\n",
      "\n",
      "morty: hey.\n",
      "\n",
      "jerry: hi, i'm sorry. i didn't do anything about this.\n",
      "\n",
      "elaine:(looking down) what happened to the movies?\n",
      "\n",
      "jerry: i was in bed for you.\n",
      "\n",
      "george: you know i didn't even want a little secret.\n",
      "\n",
      "kramer: i know, but you should take a look. i think i can do that, but, if i have to do a lot better, but i'm not really sure that i have a lot of time, i can't find that, but i can't stand myself.\n",
      "\n",
      "kramer: well, you know, i think i'm getting rid of it for you.\n",
      "\n",
      "jerry:(sarcastic) oh, that's the worst.\n",
      "\n",
      "elaine:(pause) well, i don't know.\n",
      "\n",
      "jerry: i can't believe that.\n",
      "\n",
      "george:(pause) i think it's not good.\n",
      "\n",
      "elaine: oh. oh, yeah!\n",
      "\n",
      "jerry: what do you want to get?\n",
      "\n",
      "george: i don't\n"
     ]
    }
   ],
   "source": [
    "# run the cell multiple times to get different results!\n",
    "gen_length = 400 # modify the length to your preference\n",
    "prime_word = 'jerry' # name for starting the script\n",
    "\n",
    "\"\"\"\n",
    "DON'T MODIFY ANYTHING IN THIS CELL THAT IS BELOW THIS LINE\n",
    "\"\"\"\n",
    "pad_word = helper.SPECIAL_WORDS['PADDING']\n",
    "generated_script = generate(trained_rnn, vocab_to_int[prime_word + ':'], int_to_vocab, token_dict, vocab_to_int[pad_word], gen_length)\n",
    "print(generated_script)"
   ]
  },
  {
   "cell_type": "markdown",
   "metadata": {},
   "source": [
    "#### Save your favorite scripts\n",
    "\n",
    "Once you have a script that you like (or find interesting), save it to a text file!"
   ]
  },
  {
   "cell_type": "code",
   "execution_count": 21,
   "metadata": {
    "ExecuteTime": {
     "end_time": "2020-05-23T19:10:49.729663Z",
     "start_time": "2020-05-23T19:10:49.726782Z"
    }
   },
   "outputs": [],
   "source": [
    "# save script to a text file\n",
    "f =  open(\"generated_script_1.txt\",\"w\")\n",
    "f.write(generated_script)\n",
    "f.close()"
   ]
  },
  {
   "cell_type": "markdown",
   "metadata": {},
   "source": [
    "# The TV Script is Not Perfect\n",
    "It's ok if the TV script doesn't make perfect sense. It should look like alternating lines of dialogue, here is one such example of a few generated lines.\n",
    "\n",
    "### Example generated script\n",
    "\n",
    ">jerry: what about me?\n",
    ">\n",
    ">jerry: i don't have to wait.\n",
    ">\n",
    ">kramer:(to the sales table)\n",
    ">\n",
    ">elaine:(to jerry) hey, look at this, i'm a good doctor.\n",
    ">\n",
    ">newman:(to elaine) you think i have no idea of this...\n",
    ">\n",
    ">elaine: oh, you better take the phone, and he was a little nervous.\n",
    ">\n",
    ">kramer:(to the phone) hey, hey, jerry, i don't want to be a little bit.(to kramer and jerry) you can't.\n",
    ">\n",
    ">jerry: oh, yeah. i don't even know, i know.\n",
    ">\n",
    ">jerry:(to the phone) oh, i know.\n",
    ">\n",
    ">kramer:(laughing) you know...(to jerry) you don't know.\n",
    "\n",
    "You can see that there are multiple characters that say (somewhat) complete sentences, but it doesn't have to be perfect! It takes quite a while to get good results, and often, you'll have to use a smaller vocabulary (and discard uncommon words), or get more data.  The Seinfeld dataset is about 3.4 MB, which is big enough for our purposes; for script generation you'll want more than 1 MB of text, generally. \n",
    "\n",
    "# Submitting This Project\n",
    "When submitting this project, make sure to run all the cells before saving the notebook. Save the notebook file as \"dlnd_tv_script_generation.ipynb\" and save another copy as an HTML file by clicking \"File\" -> \"Download as..\"->\"html\". Include the \"helper.py\" and \"problem_unittests.py\" files in your submission. Once you download these files, compress them into one zip file for submission."
   ]
  }
 ],
 "metadata": {
  "hide_input": false,
  "kernelspec": {
   "display_name": "Python 3.6.5 64-bit ('deep_learn_py3': virtualenv)",
   "language": "python",
   "name": "python36564bitdeeplearnpy3virtualenvc447f694d85b489d81e265f8e2065388"
  },
  "language_info": {
   "codemirror_mode": {
    "name": "ipython",
    "version": 3
   },
   "file_extension": ".py",
   "mimetype": "text/x-python",
   "name": "python",
   "nbconvert_exporter": "python",
   "pygments_lexer": "ipython3",
   "version": "3.6.5"
  },
  "toc": {
   "base_numbering": 1,
   "nav_menu": {},
   "number_sections": true,
   "sideBar": true,
   "skip_h1_title": false,
   "title_cell": "Table of Contents",
   "title_sidebar": "Contents",
   "toc_cell": false,
   "toc_position": {},
   "toc_section_display": true,
   "toc_window_display": false
  },
  "widgets": {
   "state": {},
   "version": "1.1.2"
  }
 },
 "nbformat": 4,
 "nbformat_minor": 1
}
