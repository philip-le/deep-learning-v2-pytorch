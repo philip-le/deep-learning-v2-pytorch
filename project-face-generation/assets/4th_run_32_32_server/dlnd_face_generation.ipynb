{
 "cells": [
  {
   "cell_type": "markdown",
   "metadata": {},
   "source": [
    "# Face Generation\n",
    "\n",
    "In this project, you'll define and train a DCGAN on a dataset of faces. Your goal is to get a generator network to generate *new* images of faces that look as realistic as possible!\n",
    "\n",
    "The project will be broken down into a series of tasks from **loading in data to defining and training adversarial networks**. At the end of the notebook, you'll be able to visualize the results of your trained Generator to see how it performs; your generated samples should look like fairly realistic faces with small amounts of noise.\n",
    "\n",
    "### Get the Data\n",
    "\n",
    "You'll be using the [CelebFaces Attributes Dataset (CelebA)](http://mmlab.ie.cuhk.edu.hk/projects/CelebA.html) to train your adversarial networks.\n",
    "\n",
    "This dataset is more complex than the number datasets (like MNIST or SVHN) you've been working with, and so, you should prepare to define deeper networks and train them for a longer time to get good results. It is suggested that you utilize a GPU for training.\n",
    "\n",
    "### Pre-processed Data\n",
    "\n",
    "Since the project's main focus is on building the GANs, we've done *some* of the pre-processing for you. Each of the CelebA images has been cropped to remove parts of the image that don't include a face, then resized down to 64x64x3 NumPy images. Some sample data is show below.\n",
    "\n",
    "<img src='assets/processed_face_data.png' width=60% />\n",
    "\n",
    "> If you are working locally, you can download this data [by clicking here](https://s3.amazonaws.com/video.udacity-data.com/topher/2018/November/5be7eb6f_processed-celeba-small/processed-celeba-small.zip)\n",
    "\n",
    "This is a zip file that you'll need to extract in the home directory of this notebook for further loading and processing. After extracting the data, you should be left with a directory of data `processed_celeba_small/`"
   ]
  },
  {
   "cell_type": "code",
   "execution_count": 1,
   "metadata": {
    "ExecuteTime": {
     "end_time": "2020-05-22T18:34:00.491519Z",
     "start_time": "2020-05-22T18:34:00.368050Z"
    }
   },
   "outputs": [
    {
     "name": "stdout",
     "output_type": "stream",
     "text": [
      "assets\t\t\t\t      problem_unittests.py\r\n",
      "dlnd_face_generation-cpu_64_64.ipynb  processed_celeba_small\r\n",
      "dlnd_face_generation.ipynb\t      processed_celeba_small.zip\r\n",
      "dlnd_face_generation_original.ipynb   __pycache__\r\n",
      "__MACOSX\r\n"
     ]
    }
   ],
   "source": [
    "# can comment out after executing\n",
    "!ls\n",
    "# !unzip processed-celeba-small.zip"
   ]
  },
  {
   "cell_type": "code",
   "execution_count": 2,
   "metadata": {
    "ExecuteTime": {
     "end_time": "2020-05-22T18:34:01.251411Z",
     "start_time": "2020-05-22T18:34:00.669800Z"
    }
   },
   "outputs": [],
   "source": [
    "data_dir = 'processed_celeba_small/'\n",
    "\n",
    "\"\"\"\n",
    "DON'T MODIFY ANYTHING IN THIS CELL\n",
    "\"\"\"\n",
    "import torch\n",
    "import pickle as pkl\n",
    "import matplotlib.pyplot as plt\n",
    "import numpy as np\n",
    "import problem_unittests as tests\n",
    "#import helper\n",
    "\n",
    "%matplotlib inline"
   ]
  },
  {
   "cell_type": "markdown",
   "metadata": {},
   "source": [
    "## Visualize the CelebA Data\n",
    "\n",
    "The [CelebA](http://mmlab.ie.cuhk.edu.hk/projects/CelebA.html) dataset contains over 200,000 celebrity images with annotations. Since you're going to be generating faces, you won't need the annotations, you'll only need the images. Note that these are color images with [3 color channels (RGB)](https://en.wikipedia.org/wiki/Channel_(digital_image)#RGB_Images) each.\n",
    "\n",
    "### Pre-process and Load the Data\n",
    "\n",
    "Since the project's main focus is on building the GANs, we've done *some* of the pre-processing for you. Each of the CelebA images has been cropped to remove parts of the image that don't include a face, then resized down to 64x64x3 NumPy images. This *pre-processed* dataset is a smaller subset of the very large CelebA data.\n",
    "\n",
    "> There are a few other steps that you'll need to **transform** this data and create a **DataLoader**.\n",
    "\n",
    "#### Exercise: Complete the following `get_dataloader` function, such that it satisfies these requirements:\n",
    "\n",
    "* Your images should be square, Tensor images of size `image_size x image_size` in the x and y dimension.\n",
    "* Your function should return a DataLoader that shuffles and batches these Tensor images.\n",
    "\n",
    "#### ImageFolder\n",
    "\n",
    "To create a dataset given a directory of images, it's recommended that you use PyTorch's [ImageFolder](https://pytorch.org/docs/stable/torchvision/datasets.html#imagefolder) wrapper, with a root directory `processed_celeba_small/` and data transformation passed in."
   ]
  },
  {
   "cell_type": "code",
   "execution_count": 3,
   "metadata": {
    "ExecuteTime": {
     "end_time": "2020-05-22T18:34:01.741286Z",
     "start_time": "2020-05-22T18:34:01.496964Z"
    }
   },
   "outputs": [
    {
     "data": {
      "text/plain": [
       "True"
      ]
     },
     "execution_count": 3,
     "metadata": {},
     "output_type": "execute_result"
    }
   ],
   "source": [
    "# necessary imports\n",
    "\n",
    "from torchvision import datasets\n",
    "from torchvision import transforms\n",
    "from torch.utils.data import DataLoader\n",
    "import matplotlib.pyplot as plt\n",
    "torch.cuda.is_available()"
   ]
  },
  {
   "cell_type": "code",
   "execution_count": 4,
   "metadata": {
    "ExecuteTime": {
     "end_time": "2020-05-22T18:34:01.930462Z",
     "start_time": "2020-05-22T18:34:01.924009Z"
    }
   },
   "outputs": [],
   "source": [
    "def get_dataloader(batch_size, image_size, data_dir='processed_celeba_small/'):\n",
    "    \"\"\"\n",
    "    Batch the neural network data using DataLoader\n",
    "    :param batch_size: The size of each batch; the number of images in a batch\n",
    "    :param img_size: The square size of the image data (x, y)\n",
    "    :param data_dir: Directory where image data is located\n",
    "    :return: DataLoader with batched data\n",
    "    \"\"\"\n",
    "    \n",
    "    # TODO: Implement function and return a dataloader\n",
    "\n",
    "    def collate_fn(batch):\n",
    "        data =  torch.Tensor([item[0].numpy() for item in batch])\n",
    "        target = [item[1] for item in batch]\n",
    "        target = torch.LongTensor(target)\n",
    "        return [data, target]\n",
    "\n",
    "    # the custom collate_fn can handle images of different size\n",
    "    train_transforms = transforms.Compose([transforms.Scale(size =                  image_size), transforms.ToTensor()])\n",
    "\n",
    "    # change root to valid dir in your system\n",
    "    train_dataset = datasets.ImageFolder(root=data_dir,\n",
    "                                        transform=train_transforms)\n",
    "\n",
    "\n",
    "    trainset = DataLoader(dataset=train_dataset,\n",
    "                        batch_size=batch_size,\n",
    "                        shuffle=True,\n",
    "                        collate_fn=collate_fn, # use custom collate func\n",
    "                        pin_memory=True)\n",
    "    \n",
    "    return trainset\n"
   ]
  },
  {
   "cell_type": "markdown",
   "metadata": {},
   "source": [
    "## Create a DataLoader\n",
    "\n",
    "#### Exercise: Create a DataLoader `celeba_train_loader` with appropriate hyperparameters.\n",
    "\n",
    "Call the above function and create a dataloader to view images. \n",
    "* You can decide on any reasonable `batch_size` parameter\n",
    "* Your `image_size` **must be** `32`. Resizing the data to a smaller size will make for faster training, while still creating convincing images of faces!"
   ]
  },
  {
   "cell_type": "code",
   "execution_count": 5,
   "metadata": {
    "ExecuteTime": {
     "end_time": "2020-05-22T18:35:05.918142Z",
     "start_time": "2020-05-22T18:35:05.580737Z"
    }
   },
   "outputs": [
    {
     "name": "stderr",
     "output_type": "stream",
     "text": [
      "/opt/conda/lib/python3.6/site-packages/torchvision-0.2.1-py3.6.egg/torchvision/transforms/transforms.py:188: UserWarning: The use of the transforms.Scale transform is deprecated, please use transforms.Resize instead.\n"
     ]
    }
   ],
   "source": [
    "# Define function hyperparameters\n",
    "batch_size = 64\n",
    "img_size = 32\n",
    "\n",
    "\"\"\"\n",
    "DON'T MODIFY ANYTHING IN THIS CELL THAT IS BELOW THIS LINE\n",
    "\"\"\"\n",
    "# Call your function and get a dataloader\n",
    "celeba_train_loader = get_dataloader(batch_size, img_size)\n"
   ]
  },
  {
   "cell_type": "markdown",
   "metadata": {},
   "source": [
    "Next, you can view some images! You should seen square images of somewhat-centered faces.\n",
    "\n",
    "Note: You'll need to convert the Tensor images into a NumPy type and transpose the dimensions to correctly display an image, suggested `imshow` code is below, but it may not be perfect."
   ]
  },
  {
   "cell_type": "code",
   "execution_count": 6,
   "metadata": {
    "ExecuteTime": {
     "end_time": "2020-05-22T18:35:10.745465Z",
     "start_time": "2020-05-22T18:35:08.375360Z"
    }
   },
   "outputs": [
    {
     "data": {
      "image/png": "[encoded data removed]",
      "text/plain": [
       "<matplotlib.figure.Figure at 0x7f2d5ebfc160>"
      ]
     },
     "metadata": {},
     "output_type": "display_data"
    }
   ],
   "source": [
    "# helper display function\n",
    "def imshow(img):\n",
    "    npimg = img.numpy()\n",
    "    plt.imshow(np.transpose(npimg, (1, 2, 0)))\n",
    "\n",
    "\"\"\"\n",
    "DON'T MODIFY ANYTHING IN THIS CELL THAT IS BELOW THIS LINE\n",
    "\"\"\"\n",
    "# obtain one batch of training images\n",
    "dataiter = iter(celeba_train_loader)\n",
    "images, _ = dataiter.next() # _ for no labels\n",
    "\n",
    "# plot the images in the batch, along with the corresponding labels\n",
    "fig = plt.figure(figsize=(20, 4))\n",
    "plot_size=20\n",
    "for idx in np.arange(plot_size):\n",
    "    ax = fig.add_subplot(2, plot_size/2, idx+1, xticks=[], yticks=[])\n",
    "    imshow(images[idx])"
   ]
  },
  {
   "cell_type": "code",
   "execution_count": 7,
   "metadata": {
    "ExecuteTime": {
     "end_time": "2020-05-22T18:35:20.125170Z",
     "start_time": "2020-05-22T18:35:19.877623Z"
    },
    "tags": [
     "outputPrepend"
    ]
   },
   "outputs": [
    {
     "name": "stdout",
     "output_type": "stream",
     "text": [
      "<built-in method type of Tensor object at 0x7f2d5d1cd900> torch.Size([64, 3, 32, 32])\n",
      "torch.Size([3, 32, 32])\n"
     ]
    },
    {
     "data": {
      "text/plain": [
       "<matplotlib.image.AxesImage at 0x7f2d5e928a20>"
      ]
     },
     "execution_count": 7,
     "metadata": {},
     "output_type": "execute_result"
    },
    {
     "data": {
      "image/png": "[encoded data removed]",
      "text/plain": [
       "<matplotlib.figure.Figure at 0x7f2d5ebfc0b8>"
      ]
     },
     "metadata": {
      "needs_background": "light"
     },
     "output_type": "display_data"
    }
   ],
   "source": [
    "# obtain one batch of training images\n",
    "dataiter = iter(celeba_train_loader)\n",
    "images, _ = dataiter.next() # _ for no labels\n",
    "print(images.type, images.shape)\n",
    "\n",
    "# get one image from the batch\n",
    "img = np.squeeze(images[0])\n",
    "print(img.shape)\n",
    "\n",
    "npimg = img.numpy()\n",
    "plt.imshow(np.transpose(npimg, (1,2,0)), interpolation='nearest') \n"
   ]
  },
  {
   "cell_type": "markdown",
   "metadata": {},
   "source": [
    "#### Exercise: Pre-process your image data and scale it to a pixel range of -1 to 1\n",
    "\n",
    "You need to do a bit of pre-processing; you know that the output of a `tanh` activated generator will contain pixel values in a range from -1 to 1, and so, we need to rescale our training images to a range of -1 to 1. (Right now, they are in a range from 0-1.)"
   ]
  },
  {
   "cell_type": "code",
   "execution_count": 8,
   "metadata": {
    "ExecuteTime": {
     "end_time": "2020-05-22T18:35:23.181425Z",
     "start_time": "2020-05-22T18:35:23.174127Z"
    }
   },
   "outputs": [],
   "source": [
    "# TODO: Complete the scale function\n",
    "def scale(x, feature_range=(-1, 1)):\n",
    "    ''' Scale takes in an image x and returns that image, scaled\n",
    "       with a feature_range of pixel values from -1 to 1. \n",
    "       This function assumes that the input x is already scaled from 0-1.'''\n",
    "    # assume x is scaled to (0, 1)\n",
    "    # scale to feature_range and return scaled x\n",
    "    min, max = feature_range\n",
    "    x = x * (max - min) + min\n",
    "\n",
    "    return x\n"
   ]
  },
  {
   "cell_type": "code",
   "execution_count": 9,
   "metadata": {
    "ExecuteTime": {
     "end_time": "2020-05-22T18:35:23.504945Z",
     "start_time": "2020-05-22T18:35:23.498302Z"
    }
   },
   "outputs": [
    {
     "name": "stdout",
     "output_type": "stream",
     "text": [
      "Min:  tensor(-1.)\n",
      "Max:  tensor(1.)\n"
     ]
    }
   ],
   "source": [
    "\"\"\"\n",
    "DON'T MODIFY ANYTHING IN THIS CELL THAT IS BELOW THIS LINE\n",
    "\"\"\"\n",
    "# check scaled range\n",
    "# should be close to -1 to 1\n",
    "img = images[0]\n",
    "scaled_img = scale(img)\n",
    "\n",
    "print('Min: ', scaled_img.min())\n",
    "print('Max: ', scaled_img.max())"
   ]
  },
  {
   "cell_type": "markdown",
   "metadata": {},
   "source": [
    "---\n",
    "# Define the Model\n",
    "\n",
    "A GAN is comprised of two adversarial networks, a discriminator and a generator.\n",
    "\n",
    "## Discriminator\n",
    "\n",
    "Your first task will be to define the discriminator. This is a convolutional classifier like you've built before, only without any maxpooling layers. To deal with this complex data, it's suggested you use a deep network with **normalization**. You are also allowed to create any helper functions that may be useful.\n",
    "\n",
    "#### Exercise: Complete the Discriminator class\n",
    "* The inputs to the discriminator are 32x32x3 tensor images\n",
    "* The output should be a single value that will indicate whether a given image is real or fake\n"
   ]
  },
  {
   "cell_type": "markdown",
   "metadata": {},
   "source": [
    "### We update the Discriminator structure such that it can input different input shape"
   ]
  },
  {
   "cell_type": "code",
   "execution_count": 10,
   "metadata": {
    "ExecuteTime": {
     "end_time": "2020-05-22T18:35:25.421847Z",
     "start_time": "2020-05-22T18:35:25.411110Z"
    }
   },
   "outputs": [],
   "source": [
    "import torch.nn as nn\n",
    "import torch.nn.functional as F\n",
    "# helper conv function\n",
    "def conv(in_channels, out_channels, kernel_size, stride=2, padding=1, batch_norm=True):\n",
    "    \"\"\"Creates a convolutional layer, with optional batch normalization.\n",
    "    \"\"\"\n",
    "    layers = []\n",
    "    conv_layer = nn.Conv2d(in_channels, out_channels, \n",
    "                           kernel_size, stride, padding, bias=False)\n",
    "    \n",
    "    # append conv layer\n",
    "    layers.append(conv_layer)\n",
    "\n",
    "    # add the LeakyReLU activation before the BatchNorm\n",
    "    activation = nn.LeakyReLU(negative_slope=0.1)\n",
    "    layers.append(activation)\n",
    "\n",
    "    if batch_norm:\n",
    "        # append batchnorm layer\n",
    "        layers.append(nn.BatchNorm2d(out_channels))\n",
    "     \n",
    "    # using Sequential container\n",
    "    return nn.Sequential(*layers)"
   ]
  },
  {
   "cell_type": "code",
   "execution_count": 11,
   "metadata": {
    "ExecuteTime": {
     "end_time": "2020-05-22T18:35:25.748609Z",
     "start_time": "2020-05-22T18:35:25.709128Z"
    }
   },
   "outputs": [
    {
     "name": "stdout",
     "output_type": "stream",
     "text": [
      "Tests Passed\n"
     ]
    }
   ],
   "source": [
    "class Discriminator(nn.Module):\n",
    "\n",
    "    def __init__(self, conv_dim, input_shape):\n",
    "        \"\"\"\n",
    "        Initialize the Discriminator Module\n",
    "        :param conv_dim: The depth of the first convolutional layer\n",
    "        \"\"\"\n",
    "        super(Discriminator, self).__init__()\n",
    "\n",
    "        # complete init function\n",
    "        # complete init function\n",
    "        self.conv_dim = conv_dim\n",
    "\n",
    "        # 64x64 input\n",
    "        self.conv1 = conv(3, conv_dim, 5, batch_norm=False) \n",
    "        # 32x32 out\n",
    "        self.conv2 = conv(conv_dim, conv_dim*2, 5)\n",
    "        # 16x16 out\n",
    "        self.conv3 = conv(conv_dim*2, conv_dim*8, 3)\n",
    "        # 8x8 out\n",
    "\n",
    "        \n",
    "        # final, fully-connected layer\n",
    "        self.fc = nn.Linear(conv_dim*8*int(input_shape/8)*int(input_shape/8), 1)\n",
    "        \n",
    "\n",
    "    def forward(self, x):\n",
    "        \"\"\"\n",
    "        Forward propagation of the neural network\n",
    "        :param x: The input to the neural network     \n",
    "        :return: Discriminator logits; the output of the neural network\n",
    "        \"\"\"\n",
    "        # define feedforward behavior\n",
    "        # all hidden layers + leaky relu activation\n",
    "        out = self.conv1(x)\n",
    "        out = self.conv2(out)\n",
    "        out = self.conv3(out)\n",
    "        \n",
    "        # flatten\n",
    "        out = out.view(-1, self.conv_dim*8*(int(x.shape[3]/8)**2))\n",
    "        \n",
    "        # final output layer\n",
    "        out = self.fc(out)        \n",
    "        return out\n",
    "        return x\n",
    "\n",
    "\n",
    "\"\"\"\n",
    "DON'T MODIFY ANYTHING IN THIS CELL THAT IS BELOW THIS LINE\n",
    "\"\"\"\n",
    "tests.test_discriminator(Discriminator)"
   ]
  },
  {
   "cell_type": "markdown",
   "metadata": {},
   "source": [
    "## Generator\n",
    "\n",
    "The generator should upsample an input and generate a *new* image of the same size as our training data `32x32x3`. This should be mostly transpose convolutional layers with normalization applied to the outputs.\n",
    "\n",
    "#### Exercise: Complete the Generator class\n",
    "* The inputs to the generator are vectors of some length `z_size`\n",
    "* The output should be a image of shape `32x32x3`"
   ]
  },
  {
   "cell_type": "markdown",
   "metadata": {},
   "source": [
    "### We update the Generator structure such that it can input different output shape"
   ]
  },
  {
   "cell_type": "code",
   "execution_count": 12,
   "metadata": {
    "ExecuteTime": {
     "end_time": "2020-05-22T18:35:26.562399Z",
     "start_time": "2020-05-22T18:35:26.553988Z"
    }
   },
   "outputs": [],
   "source": [
    "# helper deconv function\n",
    "def deconv(in_channels, out_channels, kernel_size, stride=2, padding=1, activation=True, batch_norm=True):\n",
    "    \"\"\"Creates a transposed-convolutional layer, with optional batch normalization.\n",
    "    \"\"\"\n",
    "    # create a sequence of transpose + optional batch norm layers\n",
    "    layers = []\n",
    "    transpose_conv_layer = nn.ConvTranspose2d(in_channels, out_channels, \n",
    "                                              kernel_size, stride, padding,                                                         bias=False)\n",
    "    # append transpose convolutional layer\n",
    "    layers.append(transpose_conv_layer)\n",
    "\n",
    "    # add the LeakyReLU activation before the BatchNorm\n",
    "    if activation:\n",
    "        layers.append(nn.ReLU())\n",
    "    \n",
    "    if batch_norm:\n",
    "        # append batchnorm layer\n",
    "        layers.append(nn.BatchNorm2d(out_channels))\n",
    "        \n",
    "    return nn.Sequential(*layers)\n"
   ]
  },
  {
   "cell_type": "code",
   "execution_count": 13,
   "metadata": {
    "ExecuteTime": {
     "end_time": "2020-05-22T18:35:26.880607Z",
     "start_time": "2020-05-22T18:35:26.824705Z"
    }
   },
   "outputs": [
    {
     "name": "stdout",
     "output_type": "stream",
     "text": [
      "Tests Passed\n"
     ]
    }
   ],
   "source": [
    "class Generator(nn.Module):\n",
    "    \n",
    "    def __init__(self, z_size, conv_dim, output_shape):\n",
    "        \"\"\"\n",
    "        Initialize the Generator Module\n",
    "        :param z_size: The length of the input latent vector, z\n",
    "        :param conv_dim: The depth of the inputs to the *last* transpose convolutional layer\n",
    "        \"\"\"\n",
    "        super(Generator, self).__init__()\n",
    "\n",
    "        # complete init function     \n",
    "        self.conv_dim = conv_dim\n",
    "        \n",
    "        # first, fully-connected layer\n",
    "        self.fc = nn.Linear(z_size, conv_dim*16*int(output_shape/32)*int(output_shape/32))\n",
    "\n",
    "        # transpose conv layers\n",
    "        self.t_conv1 = deconv(conv_dim*16, conv_dim*8, 4)\n",
    "        self.t_conv2 = deconv(conv_dim*8, conv_dim*4, 4)\n",
    "        self.t_conv3 = deconv(conv_dim*4, conv_dim*2, 4)\n",
    "        self.t_conv4 = deconv(conv_dim*2, conv_dim, 4)\n",
    "        self.t_conv5 = deconv(conv_dim, 3, 4, activation=False, batch_norm=False)\n",
    "        \n",
    "\n",
    "    def forward(self, x):\n",
    "        \"\"\"\n",
    "        Forward propagation of the neural network\n",
    "        :param x: The input to the neural network     \n",
    "        :return: A 32x32x3 Tensor image as output\n",
    "        \"\"\"\n",
    "        # define feedforward behavior\n",
    "        # fully-connected + reshape \n",
    "        out = self.fc(x)\n",
    "        out = out.view(-1, self.conv_dim*16, int(np.sqrt(out.shape[1]/(16*self.conv_dim))), int(np.sqrt(out.shape[1]/(16*self.conv_dim)))) # (batch_size, depth, 4, 4)\n",
    "        \n",
    "        # hidden transpose conv layers + relu\n",
    "        out = self.t_conv1(out)\n",
    "        out = self.t_conv2(out)\n",
    "        out = self.t_conv3(out)\n",
    "        out = self.t_conv4(out)\n",
    "        \n",
    "        # last layer + tanh activation\n",
    "        out = self.t_conv5(out)\n",
    "        out = F.tanh(out)\n",
    "        return out\n",
    "\n",
    "\"\"\"\n",
    "DON'T MODIFY ANYTHING IN THIS CELL THAT IS BELOW THIS LINE\n",
    "\"\"\"\n",
    "tests.test_generator(Generator)"
   ]
  },
  {
   "cell_type": "markdown",
   "metadata": {},
   "source": [
    "## Initialize the weights of your networks\n",
    "\n",
    "To help your models converge, you should initialize the weights of the convolutional and linear layers in your model. From reading the [original DCGAN paper](https://arxiv.org/pdf/1511.06434.pdf), they say:\n",
    "> All weights were initialized from a zero-centered Normal distribution with standard deviation 0.02.\n",
    "\n",
    "So, your next task will be to define a weight initialization function that does just this!\n",
    "\n",
    "You can refer back to the lesson on weight initialization or even consult existing model code, such as that from [the `networks.py` file in CycleGAN Github repository](https://github.com/junyanz/pytorch-CycleGAN-and-pix2pix/blob/master/models/networks.py) to help you complete this function.\n",
    "\n",
    "#### Exercise: Complete the weight initialization function\n",
    "\n",
    "* This should initialize only **convolutional** and **linear** layers\n",
    "* Initialize the weights to a normal distribution, centered around 0, with a standard deviation of 0.02.\n",
    "* The bias terms, if they exist, may be left alone or set to 0."
   ]
  },
  {
   "cell_type": "code",
   "execution_count": 14,
   "metadata": {
    "ExecuteTime": {
     "end_time": "2020-05-22T18:35:27.717786Z",
     "start_time": "2020-05-22T18:35:27.692220Z"
    }
   },
   "outputs": [],
   "source": [
    "from torch.nn import init\n",
    "def weights_init_normal(m, init_type='normal', init_gain=0.02):\n",
    "    \"\"\"\n",
    "    Applies initial weights to certain layers in a model .\n",
    "    The weights are taken from a normal distribution \n",
    "    with mean = 0, std dev = 0.02.\n",
    "    :param m: A module or layer in a network    \n",
    "    \"\"\"\n",
    "    # classname will be something like:\n",
    "    # `Conv`, `BatchNorm2d`, `Linear`, etc.\n",
    "    classname = m.__class__.__name__\n",
    "    \n",
    "    if hasattr(m, 'weight') and (classname.find('Conv') != -1 or classname.find('Linear') != -1):\n",
    "        if init_type == 'normal':\n",
    "            init.normal_(m.weight.data, 0.0, init_gain)\n",
    "        elif init_type == 'xavier':\n",
    "            init.xavier_normal_(m.weight.data, gain=init_gain)\n",
    "        elif init_type == 'kaiming':\n",
    "            init.kaiming_normal_(m.weight.data, a=0, mode='fan_in')\n",
    "        elif init_type == 'orthogonal':\n",
    "            init.orthogonal_(m.weight.data, gain=init_gain)\n",
    "        else:\n",
    "            raise NotImplementedError('initialization method [%s] is not implemented' % init_type)\n",
    "        if hasattr(m, 'bias') and m.bias is not None:\n",
    "            init.constant_(m.bias.data, 0.0)\n",
    "    elif classname.find('BatchNorm2d') != -1:  # BatchNorm Layer's weight is not a matrix; only normal distribution applies.\n",
    "        init.normal_(m.weight.data, 1.0, init_gain)\n",
    "        init.constant_(m.bias.data, 0.0)    \n"
   ]
  },
  {
   "cell_type": "markdown",
   "metadata": {
    "collapsed": true
   },
   "source": [
    "## Build complete network\n",
    "\n",
    "Define your models' hyperparameters and instantiate the discriminator and generator from the classes defined above. Make sure you've passed in the correct input arguments."
   ]
  },
  {
   "cell_type": "code",
   "execution_count": 15,
   "metadata": {
    "ExecuteTime": {
     "end_time": "2020-05-22T18:35:28.973864Z",
     "start_time": "2020-05-22T18:35:28.963886Z"
    }
   },
   "outputs": [],
   "source": [
    "\"\"\"\n",
    "DON'T MODIFY ANYTHING IN THIS CELL THAT IS BELOW THIS LINE\n",
    "\"\"\"\n",
    "def build_network(d_conv_dim, g_conv_dim, z_size, image_shape):\n",
    "    # define discriminator and generator\n",
    "    D = Discriminator(d_conv_dim, image_shape)\n",
    "    G = Generator(z_size=z_size, conv_dim=g_conv_dim, output_shape=image_shape)\n",
    "\n",
    "    # initialize model weights\n",
    "    D.apply(weights_init_normal)\n",
    "    G.apply(weights_init_normal)\n",
    "\n",
    "    print(D)\n",
    "    print()\n",
    "    print(G)\n",
    "    \n",
    "    return D, G\n"
   ]
  },
  {
   "cell_type": "markdown",
   "metadata": {},
   "source": [
    "#### Exercise: Define model hyperparameters"
   ]
  },
  {
   "cell_type": "code",
   "execution_count": 16,
   "metadata": {
    "ExecuteTime": {
     "end_time": "2020-05-22T18:40:24.801181Z",
     "start_time": "2020-05-22T18:40:24.782797Z"
    }
   },
   "outputs": [
    {
     "name": "stdout",
     "output_type": "stream",
     "text": [
      "Discriminator(\n",
      "  (conv1): Sequential(\n",
      "    (0): Conv2d(3, 32, kernel_size=(5, 5), stride=(2, 2), padding=(1, 1), bias=False)\n",
      "    (1): LeakyReLU(negative_slope=0.1)\n",
      "  )\n",
      "  (conv2): Sequential(\n",
      "    (0): Conv2d(32, 64, kernel_size=(5, 5), stride=(2, 2), padding=(1, 1), bias=False)\n",
      "    (1): LeakyReLU(negative_slope=0.1)\n",
      "    (2): BatchNorm2d(64, eps=1e-05, momentum=0.1, affine=True, track_running_stats=True)\n",
      "  )\n",
      "  (conv3): Sequential(\n",
      "    (0): Conv2d(64, 256, kernel_size=(3, 3), stride=(2, 2), padding=(1, 1), bias=False)\n",
      "    (1): LeakyReLU(negative_slope=0.1)\n",
      "    (2): BatchNorm2d(256, eps=1e-05, momentum=0.1, affine=True, track_running_stats=True)\n",
      "  )\n",
      "  (fc): Linear(in_features=4096, out_features=1, bias=True)\n",
      ")\n",
      "\n",
      "Generator(\n",
      "  (fc): Linear(in_features=100, out_features=512, bias=True)\n",
      "  (t_conv1): Sequential(\n",
      "    (0): ConvTranspose2d(512, 256, kernel_size=(4, 4), stride=(2, 2), padding=(1, 1), bias=False)\n",
      "    (1): ReLU()\n",
      "    (2): BatchNorm2d(256, eps=1e-05, momentum=0.1, affine=True, track_running_stats=True)\n",
      "  )\n",
      "  (t_conv2): Sequential(\n",
      "    (0): ConvTranspose2d(256, 128, kernel_size=(4, 4), stride=(2, 2), padding=(1, 1), bias=False)\n",
      "    (1): ReLU()\n",
      "    (2): BatchNorm2d(128, eps=1e-05, momentum=0.1, affine=True, track_running_stats=True)\n",
      "  )\n",
      "  (t_conv3): Sequential(\n",
      "    (0): ConvTranspose2d(128, 64, kernel_size=(4, 4), stride=(2, 2), padding=(1, 1), bias=False)\n",
      "    (1): ReLU()\n",
      "    (2): BatchNorm2d(64, eps=1e-05, momentum=0.1, affine=True, track_running_stats=True)\n",
      "  )\n",
      "  (t_conv4): Sequential(\n",
      "    (0): ConvTranspose2d(64, 32, kernel_size=(4, 4), stride=(2, 2), padding=(1, 1), bias=False)\n",
      "    (1): ReLU()\n",
      "    (2): BatchNorm2d(32, eps=1e-05, momentum=0.1, affine=True, track_running_stats=True)\n",
      "  )\n",
      "  (t_conv5): Sequential(\n",
      "    (0): ConvTranspose2d(32, 3, kernel_size=(4, 4), stride=(2, 2), padding=(1, 1), bias=False)\n",
      "  )\n",
      ")\n"
     ]
    }
   ],
   "source": [
    "# Define model hyperparams\n",
    "d_conv_dim = 32\n",
    "g_conv_dim = 32\n",
    "image_shape = 32\n",
    "z_size = 100\n",
    "\n",
    "\"\"\"\n",
    "DON'T MODIFY ANYTHING IN THIS CELL THAT IS BELOW THIS LINE\n",
    "\"\"\"\n",
    "D, G = build_network(d_conv_dim, g_conv_dim, z_size, image_shape)"
   ]
  },
  {
   "cell_type": "code",
   "execution_count": 17,
   "metadata": {
    "scrolled": false
   },
   "outputs": [
    {
     "name": "stdout",
     "output_type": "stream",
     "text": [
      "Requirement already satisfied: torchsummary in /opt/conda/lib/python3.6/site-packages (1.5.1)\n",
      "----------------------------------------------------------------\n",
      "        Layer (type)               Output Shape         Param #\n",
      "================================================================\n",
      "            Conv2d-1           [-1, 32, 15, 15]           2,400\n",
      "         LeakyReLU-2           [-1, 32, 15, 15]               0\n",
      "            Conv2d-3             [-1, 64, 7, 7]          51,200\n",
      "         LeakyReLU-4             [-1, 64, 7, 7]               0\n",
      "       BatchNorm2d-5             [-1, 64, 7, 7]             128\n",
      "            Conv2d-6            [-1, 256, 4, 4]         147,456\n",
      "         LeakyReLU-7            [-1, 256, 4, 4]               0\n",
      "       BatchNorm2d-8            [-1, 256, 4, 4]             512\n",
      "            Linear-9                    [-1, 1]           4,097\n",
      "================================================================\n",
      "Total params: 205,793\n",
      "Trainable params: 205,793\n",
      "Non-trainable params: 0\n",
      "----------------------------------------------------------------\n",
      "Input size (MB): 0.01\n",
      "Forward/backward pass size (MB): 0.28\n",
      "Params size (MB): 0.79\n",
      "Estimated Total Size (MB): 1.07\n",
      "----------------------------------------------------------------\n"
     ]
    }
   ],
   "source": [
    "!pip install torchsummary\n",
    "from torchsummary import summary\n",
    "summary(D.cuda(), (3, 32, 32))\n"
   ]
  },
  {
   "cell_type": "code",
   "execution_count": 18,
   "metadata": {},
   "outputs": [],
   "source": [
    "# summary(G.cuda(), (2,100))"
   ]
  },
  {
   "cell_type": "markdown",
   "metadata": {},
   "source": [
    "### Training on GPU\n",
    "\n",
    "Check if you can train on GPU. Here, we'll set this as a boolean variable `train_on_gpu`. Later, you'll be responsible for making sure that \n",
    ">* Models,\n",
    "* Model inputs, and\n",
    "* Loss function arguments\n",
    "\n",
    "Are moved to GPU, where appropriate."
   ]
  },
  {
   "cell_type": "code",
   "execution_count": 19,
   "metadata": {
    "ExecuteTime": {
     "end_time": "2020-05-22T18:40:26.124987Z",
     "start_time": "2020-05-22T18:40:26.117721Z"
    }
   },
   "outputs": [
    {
     "name": "stdout",
     "output_type": "stream",
     "text": [
      "Training on GPU!\n"
     ]
    }
   ],
   "source": [
    "\"\"\"\n",
    "DON'T MODIFY ANYTHING IN THIS CELL\n",
    "\"\"\"\n",
    "import torch\n",
    "\n",
    "# Check for a GPU\n",
    "train_on_gpu = torch.cuda.is_available()\n",
    "if not train_on_gpu:\n",
    "    print('No GPU found. Please use a GPU to train your neural network.')\n",
    "else:\n",
    "    print('Training on GPU!')"
   ]
  },
  {
   "cell_type": "markdown",
   "metadata": {},
   "source": [
    "---\n",
    "## Discriminator and Generator Losses\n",
    "\n",
    "Now we need to calculate the losses for both types of adversarial networks.\n",
    "\n",
    "### Discriminator Losses\n",
    "\n",
    "> * For the discriminator, the total loss is the sum of the losses for real and fake images, `d_loss = d_real_loss + d_fake_loss`. \n",
    "* Remember that we want the discriminator to output 1 for real images and 0 for fake images, so we need to set up the losses to reflect that.\n",
    "\n",
    "\n",
    "### Generator Loss\n",
    "\n",
    "The generator loss will look similar only with flipped labels. The generator's goal is to get the discriminator to *think* its generated images are *real*.\n",
    "\n",
    "#### Exercise: Complete real and fake loss functions\n",
    "\n",
    "**You may choose to use either cross entropy or a least squares error loss to complete the following `real_loss` and `fake_loss` functions.**"
   ]
  },
  {
   "cell_type": "code",
   "execution_count": 20,
   "metadata": {
    "ExecuteTime": {
     "end_time": "2020-05-22T18:40:28.168161Z",
     "start_time": "2020-05-22T18:40:28.159311Z"
    }
   },
   "outputs": [],
   "source": [
    "def real_loss(D_out, smooth=True):\n",
    "    '''Calculates how close discriminator outputs are to being real.\n",
    "       param, D_out: discriminator logits\n",
    "       return: real loss'''\n",
    "    batch_size = D_out.size(0)\n",
    "    # label smoothing\n",
    "    if smooth:\n",
    "        # smooth, real labels = 0.9\n",
    "        labels = torch.ones(batch_size)*0.9\n",
    "    else:\n",
    "        labels = torch.ones(batch_size) # real labels = 1\n",
    "    # move labels to GPU if available     \n",
    "    if train_on_gpu:\n",
    "        labels = labels.cuda()\n",
    "    # binary cross entropy with logits loss\n",
    "    criterion = nn.BCEWithLogitsLoss()\n",
    "    # calculate loss\n",
    "    loss = criterion(D_out.squeeze(), labels)\n",
    "    return loss\n",
    "\n",
    "def fake_loss(D_out):\n",
    "    '''Calculates how close discriminator outputs are to being fake.\n",
    "       param, D_out: discriminator logits\n",
    "       return: fake loss'''\n",
    "    batch_size = D_out.size(0)\n",
    "    labels = torch.zeros(batch_size) # fake labels = 0\n",
    "    if train_on_gpu:\n",
    "        labels = labels.cuda()\n",
    "    criterion = nn.BCEWithLogitsLoss()\n",
    "    # calculate loss\n",
    "    loss = criterion(D_out.squeeze(), labels)\n",
    "    return loss"
   ]
  },
  {
   "cell_type": "markdown",
   "metadata": {},
   "source": [
    "## Optimizers\n",
    "\n",
    "#### Exercise: Define optimizers for your Discriminator (D) and Generator (G)\n",
    "\n",
    "Define optimizers for your models with appropriate hyperparameters."
   ]
  },
  {
   "cell_type": "code",
   "execution_count": 21,
   "metadata": {
    "ExecuteTime": {
     "end_time": "2020-05-22T18:40:30.310488Z",
     "start_time": "2020-05-22T18:40:30.303461Z"
    }
   },
   "outputs": [],
   "source": [
    "import torch.optim as optim\n",
    "\n",
    "# params\n",
    "lr = 0.0001\n",
    "beta1 = 0.5\n",
    "beta2 = 0.998\n",
    "\n",
    "# Create optimizers for the discriminator D and generator G\n",
    "d_optimizer = optim.Adam(D.parameters(), lr, [beta1, beta2])\n",
    "g_optimizer = optim.Adam(G.parameters(), lr, [beta1, beta2])"
   ]
  },
  {
   "cell_type": "markdown",
   "metadata": {},
   "source": [
    "---\n",
    "## Training\n",
    "\n",
    "Training will involve alternating between training the discriminator and the generator. You'll use your functions `real_loss` and `fake_loss` to help you calculate the discriminator losses.\n",
    "\n",
    "* You should train the discriminator by alternating on real and fake images\n",
    "* Then the generator, which tries to trick the discriminator and should have an opposing loss function\n",
    "\n",
    "\n",
    "#### Saving Samples\n",
    "\n",
    "You've been given some code to print out some loss statistics and save some generated \"fake\" samples."
   ]
  },
  {
   "cell_type": "markdown",
   "metadata": {},
   "source": [
    "#### Exercise: Complete the training function\n",
    "\n",
    "Keep in mind that, if you've moved your models to GPU, you'll also have to move any model inputs to GPU."
   ]
  },
  {
   "cell_type": "code",
   "execution_count": 22,
   "metadata": {
    "ExecuteTime": {
     "end_time": "2020-05-22T18:40:32.317134Z",
     "start_time": "2020-05-22T18:40:32.298595Z"
    }
   },
   "outputs": [],
   "source": [
    "def train(D, G, n_epochs, print_every=300):\n",
    "    '''Trains adversarial networks for some number of epochs\n",
    "       param, D: the discriminator network\n",
    "       param, G: the generator network\n",
    "       param, n_epochs: number of epochs to train for\n",
    "       param, print_every: when to print and record the models' losses\n",
    "       return: D and G losses'''\n",
    "    \n",
    "    # move models to GPU\n",
    "    if train_on_gpu:\n",
    "        D.cuda()\n",
    "        G.cuda()\n",
    "\n",
    "    # keep track of loss and generated, \"fake\" samples\n",
    "    samples = []\n",
    "    losses = []\n",
    "\n",
    "\n",
    "    # Get some fixed data for sampling. These are images that are held\n",
    "    # constant throughout training, and allow us to inspect the model's performance\n",
    "    sample_size=16\n",
    "    fixed_z = np.random.uniform(-1, 1, size=(sample_size, z_size))\n",
    "    fixed_z = torch.from_numpy(fixed_z).float()\n",
    "    # move z to GPU if available\n",
    "    if train_on_gpu:\n",
    "        fixed_z = fixed_z.cuda()\n",
    "\n",
    "    # epoch training loop\n",
    "    for epoch in range(n_epochs):\n",
    "\n",
    "        # batch training loop\n",
    "        for batch_i, (real_images, _) in enumerate(celeba_train_loader):\n",
    "\n",
    "            batch_size = real_images.size(0)\n",
    "            real_images = scale(real_images)\n",
    "\n",
    "\n",
    "            # ============================================\n",
    "            #         First part: TRAIN THE DISCRIMINATOR\n",
    "            # ============================================\n",
    "            d_optimizer.zero_grad()\n",
    "            \n",
    "            # 1. Train with real images\n",
    "\n",
    "            # Compute the discriminator losses on real images \n",
    "            if train_on_gpu:\n",
    "                real_images = real_images.cuda()\n",
    "            \n",
    "            D_real = D(real_images)\n",
    "            d_real_loss = real_loss(D_real)\n",
    "            \n",
    "            # 2. Train with fake images\n",
    "            \n",
    "            # Generate fake images\n",
    "            z = np.random.uniform(-1, 1, size=(batch_size, z_size))\n",
    "            z = torch.from_numpy(z).float()\n",
    "            # move x to GPU, if available\n",
    "            if train_on_gpu:\n",
    "                z = z.cuda()\n",
    "            fake_images = G(z)\n",
    "            \n",
    "            # Compute the discriminator losses on fake images            \n",
    "            D_fake = D(fake_images.detach())\n",
    "            d_fake_loss = fake_loss(D_fake)\n",
    "\n",
    "            # 1. Train the discriminator on real and fake images\n",
    "            d_loss =  d_real_loss + d_fake_loss\n",
    "            d_loss.backward()\n",
    "            d_optimizer.step()\n",
    "\n",
    "            # =========================================\n",
    "            #         Second part: TRAIN THE GENERATOR\n",
    "            # =========================================\n",
    "\n",
    "            g_optimizer.zero_grad()\n",
    "            \n",
    "            # 1. Train with fake images and flipped labels\n",
    "            \n",
    "            # # Generate fake images\n",
    "            # z = np.random.uniform(-1, 1, size=(batch_size, z_size))\n",
    "            # z = torch.from_numpy(z).float()\n",
    "            # if train_on_gpu:\n",
    "            #     z = z.cuda()\n",
    "            # fake_images = G(z)\n",
    "            \n",
    "            # Compute the discriminator losses on fake images \n",
    "            # using flipped labels!\n",
    "            D_fake = D(fake_images)\n",
    "            g_loss = real_loss(D_fake) # use real loss to flip labels\n",
    "            \n",
    "            # perform backprop\n",
    "            g_loss.backward()\n",
    "            g_optimizer.step()\n",
    "            \n",
    "            \n",
    "            # ===============================================\n",
    "            #              END OF YOUR CODE\n",
    "            # ===============================================\n",
    "\n",
    "            # Print some loss stats\n",
    "            if batch_i % print_every == 0:\n",
    "                # append discriminator loss and generator loss\n",
    "                losses.append((d_loss.item(), g_loss.item()))\n",
    "                # print discriminator and generator loss\n",
    "                print('Epoch [{:5d}/{:5d}] | d_loss: {:6.4f} | g_loss: {:6.4f}'.format(\n",
    "                        epoch+1, n_epochs, d_loss.item(), g_loss.item()))\n",
    "\n",
    "\n",
    "        ## AFTER EACH EPOCH##    \n",
    "        # this code assumes your generator is named G, feel free to change the name\n",
    "        # generate and save sample, fake images\n",
    "        G.eval() # for generating samples\n",
    "        samples_z = G(fixed_z)\n",
    "        samples.append(samples_z)\n",
    "        G.train() # back to training mode\n",
    "        \n",
    "    # save models for later step\n",
    "    torch.save(G.state_dict(), 'Generator.pth')\n",
    "    torch.save(D.state_dict(), 'Discriminator.pth')\n",
    "    \n",
    "#     the_model = TheModelClass(*args, **kwargs)\n",
    "#     the_model.load_state_dict(torch.load(PATH))\n",
    "\n",
    "    # Save training generator samples\n",
    "    with open('train_samples.pkl', 'wb') as f:\n",
    "        pkl.dump(samples, f)\n",
    "    \n",
    "    # finally return losses\n",
    "    return losses"
   ]
  },
  {
   "cell_type": "markdown",
   "metadata": {},
   "source": [
    "Set your number of training epochs and train your GAN!"
   ]
  },
  {
   "cell_type": "code",
   "execution_count": 23,
   "metadata": {
    "ExecuteTime": {
     "end_time": "2020-05-22T19:25:14.490940Z",
     "start_time": "2020-05-22T18:40:33.873901Z"
    }
   },
   "outputs": [
    {
     "name": "stdout",
     "output_type": "stream",
     "text": [
      "Epoch [    1/   30] | d_loss: 1.8736 | g_loss: 1.0705\n",
      "Epoch [    1/   30] | d_loss: 0.4909 | g_loss: 4.7515\n",
      "Epoch [    1/   30] | d_loss: 0.5695 | g_loss: 2.5600\n",
      "Epoch [    1/   30] | d_loss: 0.7241 | g_loss: 2.4074\n",
      "Epoch [    1/   30] | d_loss: 0.5802 | g_loss: 3.0554\n",
      "Epoch [    2/   30] | d_loss: 0.7402 | g_loss: 2.9405\n",
      "Epoch [    2/   30] | d_loss: 0.7892 | g_loss: 2.2729\n",
      "Epoch [    2/   30] | d_loss: 0.8269 | g_loss: 1.8449\n",
      "Epoch [    2/   30] | d_loss: 0.8480 | g_loss: 1.4610\n",
      "Epoch [    2/   30] | d_loss: 1.0342 | g_loss: 2.5917\n",
      "Epoch [    3/   30] | d_loss: 1.3509 | g_loss: 2.0016\n",
      "Epoch [    3/   30] | d_loss: 1.1360 | g_loss: 1.5395\n",
      "Epoch [    3/   30] | d_loss: 1.2234 | g_loss: 1.3404\n",
      "Epoch [    3/   30] | d_loss: 0.9667 | g_loss: 1.7473\n",
      "Epoch [    3/   30] | d_loss: 0.9726 | g_loss: 1.8854\n",
      "Epoch [    4/   30] | d_loss: 0.9570 | g_loss: 1.9577\n",
      "Epoch [    4/   30] | d_loss: 0.9850 | g_loss: 1.4102\n",
      "Epoch [    4/   30] | d_loss: 1.2453 | g_loss: 1.5918\n",
      "Epoch [    4/   30] | d_loss: 1.0138 | g_loss: 1.3939\n",
      "Epoch [    4/   30] | d_loss: 0.8907 | g_loss: 1.7525\n",
      "Epoch [    5/   30] | d_loss: 1.3579 | g_loss: 2.0297\n",
      "Epoch [    5/   30] | d_loss: 0.9712 | g_loss: 1.5974\n",
      "Epoch [    5/   30] | d_loss: 1.0624 | g_loss: 1.5723\n",
      "Epoch [    5/   30] | d_loss: 0.9061 | g_loss: 1.7996\n",
      "Epoch [    5/   30] | d_loss: 1.0039 | g_loss: 1.6345\n",
      "Epoch [    6/   30] | d_loss: 1.2426 | g_loss: 2.2398\n",
      "Epoch [    6/   30] | d_loss: 1.1180 | g_loss: 1.8593\n",
      "Epoch [    6/   30] | d_loss: 1.0804 | g_loss: 1.3947\n",
      "Epoch [    6/   30] | d_loss: 1.0219 | g_loss: 2.0491\n",
      "Epoch [    6/   30] | d_loss: 0.9986 | g_loss: 1.5528\n",
      "Epoch [    7/   30] | d_loss: 0.8757 | g_loss: 2.1323\n",
      "Epoch [    7/   30] | d_loss: 0.8700 | g_loss: 1.8792\n",
      "Epoch [    7/   30] | d_loss: 0.9564 | g_loss: 1.6804\n",
      "Epoch [    7/   30] | d_loss: 0.9022 | g_loss: 1.6241\n",
      "Epoch [    7/   30] | d_loss: 1.0509 | g_loss: 1.6306\n",
      "Epoch [    8/   30] | d_loss: 0.9373 | g_loss: 1.7139\n",
      "Epoch [    8/   30] | d_loss: 0.9795 | g_loss: 1.6080\n",
      "Epoch [    8/   30] | d_loss: 1.0722 | g_loss: 1.2484\n",
      "Epoch [    8/   30] | d_loss: 0.9770 | g_loss: 1.8994\n",
      "Epoch [    8/   30] | d_loss: 0.7523 | g_loss: 1.9407\n",
      "Epoch [    9/   30] | d_loss: 1.8161 | g_loss: 3.1851\n",
      "Epoch [    9/   30] | d_loss: 0.9977 | g_loss: 1.6339\n",
      "Epoch [    9/   30] | d_loss: 1.0059 | g_loss: 1.7266\n",
      "Epoch [    9/   30] | d_loss: 1.0036 | g_loss: 1.9821\n",
      "Epoch [    9/   30] | d_loss: 0.8953 | g_loss: 1.6471\n",
      "Epoch [   10/   30] | d_loss: 0.7163 | g_loss: 2.0114\n",
      "Epoch [   10/   30] | d_loss: 1.1065 | g_loss: 1.3778\n",
      "Epoch [   10/   30] | d_loss: 0.8071 | g_loss: 2.0275\n",
      "Epoch [   10/   30] | d_loss: 0.9399 | g_loss: 1.5309\n",
      "Epoch [   10/   30] | d_loss: 0.8048 | g_loss: 1.9575\n",
      "Epoch [   11/   30] | d_loss: 1.0839 | g_loss: 1.7644\n",
      "Epoch [   11/   30] | d_loss: 0.7607 | g_loss: 2.2507\n",
      "Epoch [   11/   30] | d_loss: 0.8415 | g_loss: 2.7609\n",
      "Epoch [   11/   30] | d_loss: 1.3962 | g_loss: 1.3422\n",
      "Epoch [   11/   30] | d_loss: 1.2291 | g_loss: 1.1047\n",
      "Epoch [   12/   30] | d_loss: 1.0127 | g_loss: 3.1688\n",
      "Epoch [   12/   30] | d_loss: 0.8057 | g_loss: 2.3875\n",
      "Epoch [   12/   30] | d_loss: 0.7353 | g_loss: 2.0212\n",
      "Epoch [   12/   30] | d_loss: 0.9754 | g_loss: 2.2149\n",
      "Epoch [   12/   30] | d_loss: 0.9026 | g_loss: 1.4649\n",
      "Epoch [   13/   30] | d_loss: 2.1723 | g_loss: 3.7437\n",
      "Epoch [   13/   30] | d_loss: 0.9224 | g_loss: 1.8329\n",
      "Epoch [   13/   30] | d_loss: 0.8525 | g_loss: 2.4332\n",
      "Epoch [   13/   30] | d_loss: 0.9350 | g_loss: 2.3358\n",
      "Epoch [   13/   30] | d_loss: 0.8662 | g_loss: 1.5763\n",
      "Epoch [   14/   30] | d_loss: 2.6473 | g_loss: 2.1017\n",
      "Epoch [   14/   30] | d_loss: 0.6484 | g_loss: 2.3819\n",
      "Epoch [   14/   30] | d_loss: 0.8194 | g_loss: 1.9784\n",
      "Epoch [   14/   30] | d_loss: 0.8954 | g_loss: 1.8640\n",
      "Epoch [   14/   30] | d_loss: 1.1670 | g_loss: 1.5258\n",
      "Epoch [   15/   30] | d_loss: 1.9387 | g_loss: 2.4798\n",
      "Epoch [   15/   30] | d_loss: 0.8467 | g_loss: 2.1593\n",
      "Epoch [   15/   30] | d_loss: 0.9748 | g_loss: 1.5388\n",
      "Epoch [   15/   30] | d_loss: 1.1415 | g_loss: 1.4818\n",
      "Epoch [   15/   30] | d_loss: 0.6776 | g_loss: 2.1901\n",
      "Epoch [   16/   30] | d_loss: 1.3111 | g_loss: 2.7585\n",
      "Epoch [   16/   30] | d_loss: 1.2940 | g_loss: 2.6207\n",
      "Epoch [   16/   30] | d_loss: 1.0025 | g_loss: 1.2154\n",
      "Epoch [   16/   30] | d_loss: 0.9949 | g_loss: 1.6986\n",
      "Epoch [   16/   30] | d_loss: 0.5800 | g_loss: 2.9206\n",
      "Epoch [   17/   30] | d_loss: 1.0932 | g_loss: 1.7008\n",
      "Epoch [   17/   30] | d_loss: 1.0526 | g_loss: 2.4399\n",
      "Epoch [   17/   30] | d_loss: 1.0454 | g_loss: 1.6633\n",
      "Epoch [   17/   30] | d_loss: 0.6653 | g_loss: 2.5179\n",
      "Epoch [   17/   30] | d_loss: 0.6372 | g_loss: 2.5442\n",
      "Epoch [   18/   30] | d_loss: 0.7793 | g_loss: 1.9909\n",
      "Epoch [   18/   30] | d_loss: 0.6226 | g_loss: 2.7090\n",
      "Epoch [   18/   30] | d_loss: 0.9804 | g_loss: 1.2711\n",
      "Epoch [   18/   30] | d_loss: 0.8002 | g_loss: 2.7140\n",
      "Epoch [   18/   30] | d_loss: 0.5614 | g_loss: 2.3683\n",
      "Epoch [   19/   30] | d_loss: 1.3848 | g_loss: 3.5975\n",
      "Epoch [   19/   30] | d_loss: 0.6103 | g_loss: 2.8745\n",
      "Epoch [   19/   30] | d_loss: 1.3087 | g_loss: 1.0739\n",
      "Epoch [   19/   30] | d_loss: 0.9174 | g_loss: 1.9806\n",
      "Epoch [   19/   30] | d_loss: 1.1504 | g_loss: 1.3298\n",
      "Epoch [   20/   30] | d_loss: 2.2775 | g_loss: 2.0596\n",
      "Epoch [   20/   30] | d_loss: 0.6813 | g_loss: 2.0041\n",
      "Epoch [   20/   30] | d_loss: 0.6473 | g_loss: 2.2745\n",
      "Epoch [   20/   30] | d_loss: 0.6901 | g_loss: 1.8849\n",
      "Epoch [   20/   30] | d_loss: 0.7450 | g_loss: 2.7849\n",
      "Epoch [   21/   30] | d_loss: 1.1057 | g_loss: 1.9133\n",
      "Epoch [   21/   30] | d_loss: 0.7557 | g_loss: 3.0843\n",
      "Epoch [   21/   30] | d_loss: 0.5987 | g_loss: 3.2075\n",
      "Epoch [   21/   30] | d_loss: 0.5402 | g_loss: 2.3586\n",
      "Epoch [   21/   30] | d_loss: 0.8147 | g_loss: 2.7995\n",
      "Epoch [   22/   30] | d_loss: 1.5573 | g_loss: 2.8575\n",
      "Epoch [   22/   30] | d_loss: 0.5918 | g_loss: 2.5235\n",
      "Epoch [   22/   30] | d_loss: 1.2539 | g_loss: 2.1099\n",
      "Epoch [   22/   30] | d_loss: 0.5740 | g_loss: 2.4780\n",
      "Epoch [   22/   30] | d_loss: 1.1571 | g_loss: 2.8331\n",
      "Epoch [   23/   30] | d_loss: 1.9731 | g_loss: 2.4790\n",
      "Epoch [   23/   30] | d_loss: 0.5888 | g_loss: 1.9237\n",
      "Epoch [   23/   30] | d_loss: 0.4354 | g_loss: 3.6440\n",
      "Epoch [   23/   30] | d_loss: 0.9076 | g_loss: 1.5346\n",
      "Epoch [   23/   30] | d_loss: 0.7586 | g_loss: 1.7672\n",
      "Epoch [   24/   30] | d_loss: 2.6577 | g_loss: 2.1664\n",
      "Epoch [   24/   30] | d_loss: 0.6477 | g_loss: 2.4200\n",
      "Epoch [   24/   30] | d_loss: 0.4940 | g_loss: 3.2527\n",
      "Epoch [   24/   30] | d_loss: 0.9425 | g_loss: 2.6339\n",
      "Epoch [   24/   30] | d_loss: 0.5552 | g_loss: 2.7972\n",
      "Epoch [   25/   30] | d_loss: 2.3667 | g_loss: 2.5223\n",
      "Epoch [   25/   30] | d_loss: 0.7674 | g_loss: 2.6111\n",
      "Epoch [   25/   30] | d_loss: 0.6976 | g_loss: 2.8184\n",
      "Epoch [   25/   30] | d_loss: 1.0635 | g_loss: 1.0023\n",
      "Epoch [   25/   30] | d_loss: 0.9973 | g_loss: 1.3696\n",
      "Epoch [   26/   30] | d_loss: 1.6287 | g_loss: 2.7049\n",
      "Epoch [   26/   30] | d_loss: 0.6137 | g_loss: 2.6596\n",
      "Epoch [   26/   30] | d_loss: 0.9802 | g_loss: 2.3246\n",
      "Epoch [   26/   30] | d_loss: 0.7506 | g_loss: 3.0178\n",
      "Epoch [   26/   30] | d_loss: 0.6435 | g_loss: 2.2333\n",
      "Epoch [   27/   30] | d_loss: 3.8553 | g_loss: 1.2949\n",
      "Epoch [   27/   30] | d_loss: 0.4724 | g_loss: 4.1484\n",
      "Epoch [   27/   30] | d_loss: 0.5751 | g_loss: 2.6002\n",
      "Epoch [   27/   30] | d_loss: 0.6723 | g_loss: 2.7304\n",
      "Epoch [   27/   30] | d_loss: 0.9964 | g_loss: 3.2662\n",
      "Epoch [   28/   30] | d_loss: 2.8260 | g_loss: 3.1645\n",
      "Epoch [   28/   30] | d_loss: 1.1452 | g_loss: 2.2963\n",
      "Epoch [   28/   30] | d_loss: 0.4996 | g_loss: 3.1113\n",
      "Epoch [   28/   30] | d_loss: 0.4251 | g_loss: 2.8035\n",
      "Epoch [   28/   30] | d_loss: 0.7668 | g_loss: 2.1166\n",
      "Epoch [   29/   30] | d_loss: 1.5595 | g_loss: 2.5762\n",
      "Epoch [   29/   30] | d_loss: 0.4373 | g_loss: 4.2122\n",
      "Epoch [   29/   30] | d_loss: 0.6251 | g_loss: 3.2178\n",
      "Epoch [   29/   30] | d_loss: 0.5610 | g_loss: 2.2929\n",
      "Epoch [   29/   30] | d_loss: 0.4557 | g_loss: 3.0067\n",
      "Epoch [   30/   30] | d_loss: 2.4388 | g_loss: 2.5023\n",
      "Epoch [   30/   30] | d_loss: 0.5750 | g_loss: 3.0383\n",
      "Epoch [   30/   30] | d_loss: 0.6607 | g_loss: 2.4201\n",
      "Epoch [   30/   30] | d_loss: 0.7078 | g_loss: 2.8187\n",
      "Epoch [   30/   30] | d_loss: 0.4135 | g_loss: 4.2931\n"
     ]
    }
   ],
   "source": [
    "# set number of epochs \n",
    "n_epochs = 30\n",
    "\n",
    "\"\"\"\n",
    "DON'T MODIFY ANYTHING IN THIS CELL\n",
    "\"\"\"\n",
    "# call training function\n",
    "losses = train(D, G, n_epochs=n_epochs)"
   ]
  },
  {
   "cell_type": "markdown",
   "metadata": {
    "collapsed": true
   },
   "source": [
    "## Training loss\n",
    "\n",
    "Plot the training losses for the generator and discriminator, recorded after each epoch."
   ]
  },
  {
   "cell_type": "code",
   "execution_count": 24,
   "metadata": {
    "ExecuteTime": {
     "end_time": "2020-05-22T19:25:14.725148Z",
     "start_time": "2020-05-22T19:25:14.493461Z"
    }
   },
   "outputs": [
    {
     "data": {
      "text/plain": [
       "<matplotlib.legend.Legend at 0x7f2d5c1bff60>"
      ]
     },
     "execution_count": 24,
     "metadata": {},
     "output_type": "execute_result"
    },
    {
     "data": {
      "image/png": "[encoded data removed]",
      "text/plain": [
       "<matplotlib.figure.Figure at 0x7f2d5c3febe0>"
      ]
     },
     "metadata": {
      "needs_background": "light"
     },
     "output_type": "display_data"
    }
   ],
   "source": [
    "fig, ax = plt.subplots()\n",
    "losses = np.array(losses)\n",
    "plt.plot(losses.T[0], label='Discriminator', alpha=0.5)\n",
    "plt.plot(losses.T[1], label='Generator', alpha=0.5)\n",
    "plt.title(\"Training Losses\")\n",
    "plt.legend()"
   ]
  },
  {
   "cell_type": "markdown",
   "metadata": {
    "collapsed": true
   },
   "source": [
    "## Generator samples from training\n",
    "\n",
    "View samples of images from the generator, and answer a question about the strengths and weaknesses of your trained models."
   ]
  },
  {
   "cell_type": "code",
   "execution_count": 25,
   "metadata": {
    "ExecuteTime": {
     "end_time": "2020-05-22T19:30:49.886941Z",
     "start_time": "2020-05-22T19:30:49.881817Z"
    }
   },
   "outputs": [],
   "source": [
    "# helper function for viewing a list of passed in sample images\n",
    "def view_samples(epoch, samples):\n",
    "    fig, axes = plt.subplots(figsize=(16,4), nrows=2, ncols=8, sharey=True, sharex=True)\n",
    "    for ax, img in zip(axes.flatten(), samples[epoch]):\n",
    "        img = img.detach().cpu().numpy()\n",
    "        img = np.transpose(img, (1, 2, 0))\n",
    "        img = ((img + 1)*255 / (2)).astype(np.uint8)\n",
    "        ax.xaxis.set_visible(False)\n",
    "        ax.yaxis.set_visible(False)\n",
    "        im = ax.imshow(img.reshape((32,32,3)))"
   ]
  },
  {
   "cell_type": "code",
   "execution_count": 26,
   "metadata": {
    "ExecuteTime": {
     "end_time": "2020-05-22T19:30:50.646857Z",
     "start_time": "2020-05-22T19:30:50.618070Z"
    }
   },
   "outputs": [],
   "source": [
    "# Load samples from generator, taken while training\n",
    "with open('train_samples.pkl', 'rb') as f:\n",
    "    samples = pkl.load(f)"
   ]
  },
  {
   "cell_type": "code",
   "execution_count": 48,
   "metadata": {
    "ExecuteTime": {
     "end_time": "2020-05-22T19:30:53.063483Z",
     "start_time": "2020-05-22T19:30:52.517817Z"
    },
    "scrolled": true
   },
   "outputs": [
    {
     "data": {
      "image/png": "[encoded data removed]",
      "text/plain": [
       "<matplotlib.figure.Figure at 0x7f2d5d2ee9e8>"
      ]
     },
     "metadata": {
      "needs_background": "light"
     },
     "output_type": "display_data"
    }
   ],
   "source": [
    "_ = view_samples(8, samples)"
   ]
  },
  {
   "cell_type": "markdown",
   "metadata": {},
   "source": [
    "### Question: What do you notice about your generated samples and how might you improve this model?\n",
    "When you answer this question, consider the following factors:\n",
    "* The dataset is biased; it is made of \"celebrity\" faces that are mostly white\n",
    "* Model size; larger models have the opportunity to learn more features in a data feature space\n",
    "* Optimization strategy; optimizers and number of epochs affect your final result\n"
   ]
  },
  {
   "cell_type": "markdown",
   "metadata": {},
   "source": [
    "**Answer:** \n",
    "\n",
    "After a few iteration of training, at the beginning the Generator's loss didn't converge very well. Hence, we changed the model architecture by changing number of CNN layers in Discriminator and Generator, and modified the model hyperparamters.\n",
    "\n",
    "There are several other steps we can try:\n",
    "- Bigger model will potentially able to learn more features of human face. And it will required  to train for longer to achieve a better results.\n",
    "\n",
    "- Modify this model to take a more data into the dataset, since it is biased as most of the celebrities' faces here are white. Add face images of people from different races will help the model generate faces of people from all over the world.\n",
    "\n",
    "- We can also possibly change the size of the images and the model architecture, especially, the generator."
   ]
  },
  {
   "cell_type": "markdown",
   "metadata": {},
   "source": [
    "### Submitting This Project\n",
    "When submitting this project, make sure to run all the cells before saving the notebook. Save the notebook file as \"dlnd_face_generation.ipynb\" and save it as a HTML file under \"File\" -> \"Download as\". Include the \"problem_unittests.py\" files in your submission."
   ]
  }
 ],
 "metadata": {
  "hide_input": false,
  "kernelspec": {
   "display_name": "Python 3",
   "language": "python",
   "name": "python3"
  },
  "language_info": {
   "codemirror_mode": {
    "name": "ipython",
    "version": 3
   },
   "file_extension": ".py",
   "mimetype": "text/x-python",
   "name": "python",
   "nbconvert_exporter": "python",
   "pygments_lexer": "ipython3",
   "version": "3.6.3"
  },
  "toc": {
   "base_numbering": 1,
   "nav_menu": {},
   "number_sections": true,
   "sideBar": true,
   "skip_h1_title": false,
   "title_cell": "Table of Contents",
   "title_sidebar": "Contents",
   "toc_cell": false,
   "toc_position": {},
   "toc_section_display": true,
   "toc_window_display": true
  }
 },
 "nbformat": 4,
 "nbformat_minor": 1
}
